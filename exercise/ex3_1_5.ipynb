{
 "cells": [
  {
   "cell_type": "code",
   "execution_count": 5,
   "id": "9474dab5",
   "metadata": {},
   "outputs": [],
   "source": [
    "import numpy as np\n",
    "import scipy.linalg as linalg\n",
    "from toolbox_02450.similarity import similarity\n",
    "\n",
    "from ex3_1_4 import *"
   ]
  },
  {
   "cell_type": "code",
   "execution_count": null,
   "id": "02a7a922",
   "metadata": {},
   "outputs": [],
   "source": []
  },
  {
   "cell_type": "code",
   "execution_count": 6,
   "id": "cacd61fb",
   "metadata": {},
   "outputs": [],
   "source": [
    "q = np.array([0, 0, 0, 0, 0, 0, 0, 1, 0, 0, 0, 0, 0, 1, 1, 0, 0, 0])"
   ]
  },
  {
   "cell_type": "code",
   "execution_count": 7,
   "id": "081740ac",
   "metadata": {},
   "outputs": [],
   "source": [
    "# Method 1 ('for' loop - slow)\n",
    "N = np.shape(X)[0]; # get the number of data objects\n",
    "sim = np.zeros((N,1)) # allocate a vector for the similarity\n",
    "for i in range(N):\n",
    "    x = X[i,:] # Get the i'th data object (here: document)\n",
    "    sim[i] = q/linalg.norm(q) @ x.T/linalg.norm(x) # Compute cosine similarity"
   ]
  },
  {
   "cell_type": "code",
   "execution_count": 8,
   "id": "759b9f86",
   "metadata": {},
   "outputs": [
    {
     "name": "stdout",
     "output_type": "stream",
     "text": [
      "Query vector:\n",
      " [0 0 0 0 0 0 0 1 0 0 0 0 0 1 1 0 0 0]\n",
      "\n",
      "Similarity results:\n",
      " [[0.28867513]\n",
      " [0.        ]\n",
      " [0.51639778]\n",
      " [0.77459667]\n",
      " [0.25819889]]\n"
     ]
    }
   ],
   "source": [
    "# Method 2 (one line of code with no iterations - faster)\n",
    "sim = (q @ X.T).T / (np.sqrt(np.power(X,2).sum(axis=1)) * np.sqrt(np.power(q,2).sum()))\n",
    "\n",
    "# Method 3 (use the \"similarity\" function)\n",
    "sim = similarity(X, q, 'cos');\n",
    "\n",
    "\n",
    "# Display the result\n",
    "print('Query vector:\\n {0}\\n'.format(q))\n",
    "print('Similarity results:\\n {0}'.format(sim))"
   ]
  },
  {
   "cell_type": "code",
   "execution_count": null,
   "id": "44982fb1",
   "metadata": {},
   "outputs": [],
   "source": []
  }
 ],
 "metadata": {
  "kernelspec": {
   "display_name": "Python 3 (ipykernel)",
   "language": "python",
   "name": "python3"
  },
  "language_info": {
   "codemirror_mode": {
    "name": "ipython",
    "version": 3
   },
   "file_extension": ".py",
   "mimetype": "text/x-python",
   "name": "python",
   "nbconvert_exporter": "python",
   "pygments_lexer": "ipython3",
   "version": "3.10.6"
  }
 },
 "nbformat": 4,
 "nbformat_minor": 5
}
