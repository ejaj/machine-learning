{
 "cells": [
  {
   "cell_type": "code",
   "execution_count": 1,
   "id": "be254aaa",
   "metadata": {},
   "outputs": [],
   "source": [
    "import numpy as np\n",
    "from sklearn.feature_extraction.text import CountVectorizer"
   ]
  },
  {
   "cell_type": "code",
   "execution_count": 2,
   "id": "05f8f51f",
   "metadata": {},
   "outputs": [],
   "source": [
    "with open('data/textDocs.txt', 'r') as f:\n",
    "    raw_file = f.read()"
   ]
  },
  {
   "cell_type": "code",
   "execution_count": 4,
   "id": "830a9146",
   "metadata": {},
   "outputs": [
    {
     "data": {
      "text/plain": [
       "['The Google matrix P is a model of the internet',\n",
       " '',\n",
       " '',\n",
       " 'P_ij is nonzero if there is a link from webpage i to j',\n",
       " '',\n",
       " '',\n",
       " 'The Google matrix is used to rank all Web pages',\n",
       " '',\n",
       " '',\n",
       " 'The ranking is done by solving a matrix eigenvalue problem',\n",
       " '',\n",
       " '',\n",
       " 'England dropped out of the top 10 in the FIFA ranking']"
      ]
     },
     "execution_count": 4,
     "metadata": {},
     "output_type": "execute_result"
    }
   ],
   "source": [
    "corpus = raw_file.split('\\n')\n",
    "corpus"
   ]
  },
  {
   "cell_type": "code",
   "execution_count": 5,
   "id": "fcf0f607",
   "metadata": {},
   "outputs": [
    {
     "data": {
      "text/plain": [
       "['The Google matrix P is a model of the internet',\n",
       " 'P_ij is nonzero if there is a link from webpage i to j',\n",
       " 'The Google matrix is used to rank all Web pages',\n",
       " 'The ranking is done by solving a matrix eigenvalue problem',\n",
       " 'England dropped out of the top 10 in the FIFA ranking']"
      ]
     },
     "execution_count": 5,
     "metadata": {},
     "output_type": "execute_result"
    }
   ],
   "source": [
    "corpus = list(filter(None, corpus))\n",
    "corpus"
   ]
  },
  {
   "cell_type": "code",
   "execution_count": 10,
   "id": "8b4aa846",
   "metadata": {},
   "outputs": [
    {
     "name": "stdout",
     "output_type": "stream",
     "text": [
      "Document-term matrix analysis\n",
      "\n",
      "Corpus (5 documents/sentences):\n",
      "[['The Google matrix P is a model of the internet'\n",
      "  'P_ij is nonzero if there is a link from webpage i to j'\n",
      "  'The Google matrix is used to rank all Web pages'\n",
      "  'The ranking is done by solving a matrix eigenvalue problem'\n",
      "  'England dropped out of the top 10 in the FIFA ranking']]\n",
      "\n"
     ]
    }
   ],
   "source": [
    "print('Document-term matrix analysis')\n",
    "print()\n",
    "print('Corpus (5 documents/sentences):')\n",
    "print(np.asmatrix(corpus))\n",
    "print()"
   ]
  },
  {
   "cell_type": "code",
   "execution_count": 11,
   "id": "7df8cdf3",
   "metadata": {},
   "outputs": [],
   "source": [
    "vectorizer = CountVectorizer(token_pattern=r'\\b[^\\d\\W]+\\b')"
   ]
  },
  {
   "cell_type": "code",
   "execution_count": 13,
   "id": "a91a08f4",
   "metadata": {},
   "outputs": [
    {
     "name": "stdout",
     "output_type": "stream",
     "text": [
      "Found terms:\n",
      "['a' 'all' 'by' 'done' 'dropped' 'eigenvalue' 'england' 'fifa' 'from'\n",
      " 'google' 'i' 'if' 'in' 'internet' 'is' 'j' 'link' 'matrix' 'model'\n",
      " 'nonzero' 'of' 'out' 'p' 'p_ij' 'pages' 'problem' 'rank' 'ranking'\n",
      " 'solving' 'the' 'there' 'to' 'top' 'used' 'web' 'webpage']\n",
      "\n"
     ]
    }
   ],
   "source": [
    "vectorizer.fit(corpus)\n",
    "attributeNames = vectorizer.get_feature_names_out()\n",
    "print('Found terms:')\n",
    "print(attributeNames)\n",
    "print()"
   ]
  },
  {
   "cell_type": "code",
   "execution_count": null,
   "id": "6608975b",
   "metadata": {},
   "outputs": [],
   "source": []
  },
  {
   "cell_type": "code",
   "execution_count": null,
   "id": "9e2fe7c4",
   "metadata": {},
   "outputs": [],
   "source": []
  }
 ],
 "metadata": {
  "kernelspec": {
   "display_name": "Python 3 (ipykernel)",
   "language": "python",
   "name": "python3"
  },
  "language_info": {
   "codemirror_mode": {
    "name": "ipython",
    "version": 3
   },
   "file_extension": ".py",
   "mimetype": "text/x-python",
   "name": "python",
   "nbconvert_exporter": "python",
   "pygments_lexer": "ipython3",
   "version": "3.10.6"
  }
 },
 "nbformat": 4,
 "nbformat_minor": 5
}
