{
 "cells": [
  {
   "cell_type": "code",
   "execution_count": 1,
   "id": "4aa9dc00",
   "metadata": {},
   "outputs": [
    {
     "name": "stdout",
     "output_type": "stream",
     "text": [
      "Cosine scaling: 0.0000 \n",
      "ExtendedJaccard scaling: 0.1578 \n",
      "Correlation scaling: 0.0000 \n",
      "Cosine translation: -0.0185 \n",
      "ExtendedJaccard translation: 0.3428 \n",
      "Correlation translation: -0.0000 \n"
     ]
    }
   ],
   "source": [
    "import numpy as np\n",
    "from toolbox_02450.similarity import similarity\n",
    "\n",
    "# Generate two data objects with M random attributes\n",
    "M = 5;\n",
    "x = np.random.rand(1,M)\n",
    "y = np.random.rand(1,M)\n",
    "\n",
    "# Two constants\n",
    "a = 1.5\n",
    "b = 1.5\n",
    "\n",
    "# Check the statements in the exercise\n",
    "print(\"Cosine scaling: %.4f \" % (similarity(x,y,'cos') - similarity(a*x,y,'cos'))[0,0])\n",
    "print(\"ExtendedJaccard scaling: %.4f \" % (similarity(x,y,'ext') - similarity(a*x,y,'ext'))[0,0])\n",
    "print(\"Correlation scaling: %.4f \" % (similarity(x,y,'cor') - similarity(a*x,y,'cor'))[0,0])\n",
    "print(\"Cosine translation: %.4f \" % (similarity(x,y,'cos') - similarity(b+x,y,'cos'))[0,0])\n",
    "print(\"ExtendedJaccard translation: %.4f \" % (similarity(x,y,'ext') - similarity(b+x,y,'ext'))[0,0])\n",
    "print(\"Correlation translation: %.4f \" % (similarity(x,y,'cor') - similarity(b+x,y,'cor'))[0,0])"
   ]
  },
  {
   "cell_type": "code",
   "execution_count": null,
   "id": "805eba30",
   "metadata": {},
   "outputs": [],
   "source": []
  }
 ],
 "metadata": {
  "kernelspec": {
   "display_name": "Python 3 (ipykernel)",
   "language": "python",
   "name": "python3"
  },
  "language_info": {
   "codemirror_mode": {
    "name": "ipython",
    "version": 3
   },
   "file_extension": ".py",
   "mimetype": "text/x-python",
   "name": "python",
   "nbconvert_exporter": "python",
   "pygments_lexer": "ipython3",
   "version": "3.10.6"
  }
 },
 "nbformat": 4,
 "nbformat_minor": 5
}
