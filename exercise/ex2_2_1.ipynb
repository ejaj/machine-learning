{
 "cells": [
  {
   "cell_type": "code",
   "execution_count": 1,
   "id": "f5fd54c4",
   "metadata": {},
   "outputs": [],
   "source": [
    "from matplotlib.pyplot import (figure, subplot, imshow, xlabel, title, yticks, show,cm)\n",
    "from scipy.io import loadmat\n",
    "import numpy as np"
   ]
  },
  {
   "cell_type": "code",
   "execution_count": 8,
   "id": "1b70f74e",
   "metadata": {},
   "outputs": [],
   "source": [
    "i = 0"
   ]
  },
  {
   "cell_type": "code",
   "execution_count": 9,
   "id": "5995ae02",
   "metadata": {},
   "outputs": [
    {
     "data": {
      "text/plain": [
       "{'__header__': b'MATLAB 5.0 MAT-file, Platform: PCWIN, Created on: Mon Feb 20 16:18:38 2006',\n",
       " '__version__': '1.0',\n",
       " '__globals__': [],\n",
       " 'testdata': array([[ 9., -1., -1., ..., -1., -1., -1.],\n",
       "        [ 6., -1., -1., ..., -1., -1., -1.],\n",
       "        [ 3., -1., -1., ..., -1., -1., -1.],\n",
       "        ...,\n",
       "        [ 4., -1., -1., ..., -1., -1., -1.],\n",
       "        [ 0., -1., -1., ..., -1., -1., -1.],\n",
       "        [ 1., -1., -1., ..., -1., -1., -1.]]),\n",
       " 'traindata': array([[ 6.   , -1.   , -1.   , ..., -1.   , -1.   , -1.   ],\n",
       "        [ 5.   , -1.   , -1.   , ..., -0.671, -0.828, -1.   ],\n",
       "        [ 4.   , -1.   , -1.   , ..., -1.   , -1.   , -1.   ],\n",
       "        ...,\n",
       "        [ 3.   , -1.   , -1.   , ..., -1.   , -1.   , -1.   ],\n",
       "        [ 0.   , -1.   , -1.   , ..., -1.   , -1.   , -1.   ],\n",
       "        [ 1.   , -1.   , -1.   , ..., -1.   , -1.   , -1.   ]])}"
      ]
     },
     "execution_count": 9,
     "metadata": {},
     "output_type": "execute_result"
    }
   ],
   "source": [
    "mat_data = loadmat('data/zipdata.mat')\n",
    "mat_data"
   ]
  },
  {
   "cell_type": "code",
   "execution_count": 10,
   "id": "b00895b3",
   "metadata": {},
   "outputs": [
    {
     "data": {
      "text/plain": [
       "array([[ 9., -1., -1., ..., -1., -1., -1.],\n",
       "       [ 6., -1., -1., ..., -1., -1., -1.],\n",
       "       [ 3., -1., -1., ..., -1., -1., -1.],\n",
       "       ...,\n",
       "       [ 4., -1., -1., ..., -1., -1., -1.],\n",
       "       [ 0., -1., -1., ..., -1., -1., -1.],\n",
       "       [ 1., -1., -1., ..., -1., -1., -1.]])"
      ]
     },
     "execution_count": 10,
     "metadata": {},
     "output_type": "execute_result"
    }
   ],
   "source": [
    "testdata = mat_data['testdata']\n",
    "testdata"
   ]
  },
  {
   "cell_type": "code",
   "execution_count": 11,
   "id": "8c57da8a",
   "metadata": {},
   "outputs": [
    {
     "data": {
      "text/plain": [
       "array([[ 6.   , -1.   , -1.   , ..., -1.   , -1.   , -1.   ],\n",
       "       [ 5.   , -1.   , -1.   , ..., -0.671, -0.828, -1.   ],\n",
       "       [ 4.   , -1.   , -1.   , ..., -1.   , -1.   , -1.   ],\n",
       "       ...,\n",
       "       [ 3.   , -1.   , -1.   , ..., -1.   , -1.   , -1.   ],\n",
       "       [ 0.   , -1.   , -1.   , ..., -1.   , -1.   , -1.   ],\n",
       "       [ 1.   , -1.   , -1.   , ..., -1.   , -1.   , -1.   ]])"
      ]
     },
     "execution_count": 11,
     "metadata": {},
     "output_type": "execute_result"
    }
   ],
   "source": [
    "traindata = mat_data['traindata']\n",
    "traindata"
   ]
  },
  {
   "cell_type": "code",
   "execution_count": 12,
   "id": "51f62a6c",
   "metadata": {},
   "outputs": [],
   "source": [
    "X = traindata[:,1:]\n",
    "y = traindata[:,0]"
   ]
  },
  {
   "cell_type": "code",
   "execution_count": 16,
   "id": "e021dc70",
   "metadata": {},
   "outputs": [
    {
     "data": {
      "text/plain": [
       "([], [])"
      ]
     },
     "execution_count": 16,
     "metadata": {},
     "output_type": "execute_result"
    },
    {
     "data": {
      "image/png": "[encoded data removed]",
      "text/plain": [
       "<Figure size 640x480 with 1 Axes>"
      ]
     },
     "metadata": {},
     "output_type": "display_data"
    }
   ],
   "source": [
    "f = figure()\n",
    "subplot(4,1,4)\n",
    "imshow(np.expand_dims(X[i,:],axis=0), extent=(0,256,0,10), cmap=cm.gray_r);\n",
    "xlabel('Pixel number');\n",
    "title('Digit in vector format');\n",
    "yticks([])"
   ]
  },
  {
   "cell_type": "code",
   "execution_count": null,
   "id": "29016173",
   "metadata": {},
   "outputs": [],
   "source": []
  },
  {
   "cell_type": "code",
   "execution_count": 19,
   "id": "5c4c48ac",
   "metadata": {},
   "outputs": [
    {
     "data": {
      "text/plain": [
       "array([[-1.   , -1.   , -1.   , -1.   , -1.   , -1.   , -1.   , -0.631,\n",
       "         0.862, -0.167, -1.   , -1.   , -1.   , -1.   , -1.   , -1.   ],\n",
       "       [-1.   , -1.   , -1.   , -1.   , -1.   , -1.   , -0.992,  0.297,\n",
       "         1.   ,  0.307, -1.   , -1.   , -1.   , -1.   , -1.   , -1.   ],\n",
       "       [-1.   , -1.   , -1.   , -1.   , -1.   , -1.   , -0.41 ,  1.   ,\n",
       "         0.986, -0.565, -1.   , -1.   , -1.   , -1.   , -1.   , -1.   ],\n",
       "       [-1.   , -1.   , -1.   , -1.   , -1.   , -0.683,  0.825,  1.   ,\n",
       "         0.562, -1.   , -1.   , -1.   , -1.   , -1.   , -1.   , -1.   ],\n",
       "       [-1.   , -1.   , -1.   , -1.   , -0.938,  0.54 ,  1.   ,  0.778,\n",
       "        -0.715, -1.   , -1.   , -1.   , -1.   , -1.   , -1.   , -1.   ],\n",
       "       [-1.   , -1.   , -1.   , -1.   ,  0.1  ,  1.   ,  0.922, -0.439,\n",
       "        -1.   , -1.   , -1.   , -1.   , -1.   , -1.   , -1.   , -1.   ],\n",
       "       [-1.   , -1.   , -1.   , -0.257,  0.95 ,  1.   , -0.162, -1.   ,\n",
       "        -1.   , -1.   , -0.987, -0.714, -0.832, -1.   , -1.   , -1.   ],\n",
       "       [-1.   , -1.   , -0.797,  0.909,  1.   ,  0.3  , -0.961, -1.   ,\n",
       "        -1.   , -0.55 ,  0.485,  0.996,  0.867,  0.092, -1.   , -1.   ],\n",
       "       [-1.   , -1.   ,  0.278,  1.   ,  0.877, -0.824, -1.   , -0.905,\n",
       "         0.145,  0.977,  1.   ,  1.   ,  1.   ,  0.99 , -0.745, -1.   ],\n",
       "       [-1.   , -0.95 ,  0.847,  1.   ,  0.327, -1.   , -1.   ,  0.355,\n",
       "         1.   ,  0.655, -0.109, -0.185,  1.   ,  0.988, -0.723, -1.   ],\n",
       "       [-1.   , -0.63 ,  1.   ,  1.   ,  0.068, -0.925,  0.113,  0.96 ,\n",
       "         0.308, -0.884, -1.   , -0.075,  1.   ,  0.641, -0.995, -1.   ],\n",
       "       [-1.   , -0.677,  1.   ,  1.   ,  0.753,  0.341,  1.   ,  0.707,\n",
       "        -0.942, -1.   , -1.   ,  0.545,  1.   ,  0.027, -1.   , -1.   ],\n",
       "       [-1.   , -0.903,  0.792,  1.   ,  1.   ,  1.   ,  1.   ,  0.536,\n",
       "         0.184,  0.812,  0.837,  0.978,  0.864, -0.63 , -1.   , -1.   ],\n",
       "       [-1.   , -1.   , -0.452,  0.828,  1.   ,  1.   ,  1.   ,  1.   ,\n",
       "         1.   ,  1.   ,  1.   ,  1.   ,  0.135, -1.   , -1.   , -1.   ],\n",
       "       [-1.   , -1.   , -1.   , -0.483,  0.813,  1.   ,  1.   ,  1.   ,\n",
       "         1.   ,  1.   ,  1.   ,  0.219, -0.943, -1.   , -1.   , -1.   ],\n",
       "       [-1.   , -1.   , -1.   , -1.   , -0.974, -0.429,  0.304,  0.823,\n",
       "         1.   ,  0.482, -0.474, -0.991, -1.   , -1.   , -1.   , -1.   ]])"
      ]
     },
     "execution_count": 19,
     "metadata": {},
     "output_type": "execute_result"
    },
    {
     "data": {
      "image/png": "[encoded data removed]",
      "text/plain": [
       "<Figure size 640x480 with 1 Axes>"
      ]
     },
     "metadata": {},
     "output_type": "display_data"
    }
   ],
   "source": [
    "subplot(2,1,1);\n",
    "I = np.reshape(X[i,:],(16,16))\n",
    "I"
   ]
  },
  {
   "cell_type": "code",
   "execution_count": null,
   "id": "6fc00aa0",
   "metadata": {},
   "outputs": [],
   "source": []
  }
 ],
 "metadata": {
  "kernelspec": {
   "display_name": "Python 3 (ipykernel)",
   "language": "python",
   "name": "python3"
  },
  "language_info": {
   "codemirror_mode": {
    "name": "ipython",
    "version": 3
   },
   "file_extension": ".py",
   "mimetype": "text/x-python",
   "name": "python",
   "nbconvert_exporter": "python",
   "pygments_lexer": "ipython3",
   "version": "3.10.6"
  }
 },
 "nbformat": 4,
 "nbformat_minor": 5
}
