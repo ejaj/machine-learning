{
 "cells": [
  {
   "cell_type": "code",
   "execution_count": 14,
   "id": "09a8af7b",
   "metadata": {},
   "outputs": [
    {
     "ename": "ImportError",
     "evalue": "cannot import name 'PennTreebankChunker' from 'chunker' (/home/kazi/Works/Projects/machine-learning/venv/lib/python3.10/site-packages/chunker/__init__.py)",
     "output_type": "error",
     "traceback": [
      "\u001b[0;31m---------------------------------------------------------------------------\u001b[0m",
      "\u001b[0;31mImportError\u001b[0m                               Traceback (most recent call last)",
      "Cell \u001b[0;32mIn[14], line 1\u001b[0m\n\u001b[0;32m----> 1\u001b[0m \u001b[38;5;28;01mfrom\u001b[39;00m \u001b[38;5;21;01mchunker\u001b[39;00m \u001b[38;5;28;01mimport\u001b[39;00m PennTreebankChunker\n\u001b[1;32m      2\u001b[0m \u001b[38;5;28;01mfrom\u001b[39;00m \u001b[38;5;21;01mextractor\u001b[39;00m \u001b[38;5;28;01mimport\u001b[39;00m SOPExtractor\n\u001b[1;32m      4\u001b[0m chunker \u001b[38;5;241m=\u001b[39m PennTreebankChunker()\n",
      "\u001b[0;31mImportError\u001b[0m: cannot import name 'PennTreebankChunker' from 'chunker' (/home/kazi/Works/Projects/machine-learning/venv/lib/python3.10/site-packages/chunker/__init__.py)"
     ]
    }
   ],
   "source": [
    "from chunker import PennTreebankChunker\n",
    "from extractor import SOPExtractor\n",
    "\n",
    "chunker = PennTreebankChunker()\n",
    "extractor = SOPExtractor(chunker)\n",
    "\n",
    "def extract(sentence):  \n",
    "    sentence = sentence if sentence[-1] == '.' else sentence+'.'\n",
    "    global extractor\n",
    "    sop_triplet = extractor.extract(sentence)\n",
    "    return sop_triplet"
   ]
  },
  {
   "cell_type": "code",
   "execution_count": 15,
   "id": "0e6b4eab",
   "metadata": {},
   "outputs": [
    {
     "ename": "NameError",
     "evalue": "name 'extractor' is not defined",
     "output_type": "error",
     "traceback": [
      "\u001b[0;31m---------------------------------------------------------------------------\u001b[0m",
      "\u001b[0;31mNameError\u001b[0m                                 Traceback (most recent call last)",
      "Cell \u001b[0;32mIn[15], line 9\u001b[0m\n\u001b[1;32m      1\u001b[0m sentences \u001b[38;5;241m=\u001b[39m [\n\u001b[1;32m      2\u001b[0m   \u001b[38;5;124m'\u001b[39m\u001b[38;5;124mThe quick brown fox jumps over the lazy dog.\u001b[39m\u001b[38;5;124m'\u001b[39m,\n\u001b[1;32m      3\u001b[0m   \u001b[38;5;124m'\u001b[39m\u001b[38;5;124mA rare black squirrel has become a regular visitor to a suburban garden\u001b[39m\u001b[38;5;124m'\u001b[39m,\n\u001b[1;32m      4\u001b[0m   \u001b[38;5;124m'\u001b[39m\u001b[38;5;124mThe driver did not change the flat tire\u001b[39m\u001b[38;5;124m'\u001b[39m,\n\u001b[1;32m      5\u001b[0m   \u001b[38;5;124m\"\u001b[39m\u001b[38;5;124mThe driver crashed the bike white bumper\u001b[39m\u001b[38;5;124m\"\u001b[39m\n\u001b[1;32m      6\u001b[0m ]\n\u001b[1;32m      8\u001b[0m \u001b[38;5;28;01mfor\u001b[39;00m sentence \u001b[38;5;129;01min\u001b[39;00m sentences:\n\u001b[0;32m----> 9\u001b[0m     sop_triplet \u001b[38;5;241m=\u001b[39m \u001b[43mextract\u001b[49m\u001b[43m(\u001b[49m\u001b[43msentence\u001b[49m\u001b[43m)\u001b[49m\n\u001b[1;32m     10\u001b[0m     \u001b[38;5;28mprint\u001b[39m (sop_triplet\u001b[38;5;241m.\u001b[39msubject \u001b[38;5;241m+\u001b[39m \u001b[38;5;124m'\u001b[39m\u001b[38;5;124m:\u001b[39m\u001b[38;5;124m'\u001b[39m \u001b[38;5;241m+\u001b[39m sop_triplet\u001b[38;5;241m.\u001b[39mpredicate \u001b[38;5;241m+\u001b[39m \u001b[38;5;124m'\u001b[39m\u001b[38;5;124m:\u001b[39m\u001b[38;5;124m'\u001b[39m \u001b[38;5;241m+\u001b[39m sop_triplet\u001b[38;5;241m.\u001b[39mobject)\n",
      "Cell \u001b[0;32mIn[12], line 4\u001b[0m, in \u001b[0;36mextract\u001b[0;34m(sentence)\u001b[0m\n\u001b[1;32m      2\u001b[0m sentence \u001b[38;5;241m=\u001b[39m sentence \u001b[38;5;28;01mif\u001b[39;00m sentence[\u001b[38;5;241m-\u001b[39m\u001b[38;5;241m1\u001b[39m] \u001b[38;5;241m==\u001b[39m \u001b[38;5;124m'\u001b[39m\u001b[38;5;124m.\u001b[39m\u001b[38;5;124m'\u001b[39m \u001b[38;5;28;01melse\u001b[39;00m sentence\u001b[38;5;241m+\u001b[39m\u001b[38;5;124m'\u001b[39m\u001b[38;5;124m.\u001b[39m\u001b[38;5;124m'\u001b[39m\n\u001b[1;32m      3\u001b[0m \u001b[38;5;28;01mglobal\u001b[39;00m extractor\n\u001b[0;32m----> 4\u001b[0m sop_triplet \u001b[38;5;241m=\u001b[39m \u001b[43mextractor\u001b[49m\u001b[38;5;241m.\u001b[39mextract(sentence)\n\u001b[1;32m      5\u001b[0m \u001b[38;5;28;01mreturn\u001b[39;00m sop_triplet\n",
      "\u001b[0;31mNameError\u001b[0m: name 'extractor' is not defined"
     ]
    }
   ],
   "source": [
    "sentences = [\n",
    "  'The quick brown fox jumps over the lazy dog.',\n",
    "  'A rare black squirrel has become a regular visitor to a suburban garden',\n",
    "  'The driver did not change the flat tire',\n",
    "  \"The driver crashed the bike white bumper\"\n",
    "]\n",
    "\n",
    "for sentence in sentences:\n",
    "    sop_triplet = extract(sentence)\n",
    "    print (sop_triplet.subject + ':' + sop_triplet.predicate + ':' + sop_triplet.object)"
   ]
  },
  {
   "cell_type": "code",
   "execution_count": null,
   "id": "570ed210",
   "metadata": {},
   "outputs": [],
   "source": []
  },
  {
   "cell_type": "code",
   "execution_count": null,
   "id": "f21a4eca",
   "metadata": {},
   "outputs": [],
   "source": []
  }
 ],
 "metadata": {
  "kernelspec": {
   "display_name": "Python 3 (ipykernel)",
   "language": "python",
   "name": "python3"
  },
  "language_info": {
   "codemirror_mode": {
    "name": "ipython",
    "version": 3
   },
   "file_extension": ".py",
   "mimetype": "text/x-python",
   "name": "python",
   "nbconvert_exporter": "python",
   "pygments_lexer": "ipython3",
   "version": "3.10.12"
  }
 },
 "nbformat": 4,
 "nbformat_minor": 5
}
