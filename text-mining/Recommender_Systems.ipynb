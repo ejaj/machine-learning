{
 "cells": [
  {
   "cell_type": "code",
   "execution_count": 1,
   "id": "34698ebe",
   "metadata": {},
   "outputs": [],
   "source": [
    "import numpy as np\n",
    "import pandas as pd"
   ]
  },
  {
   "cell_type": "code",
   "execution_count": 3,
   "id": "4bea4b65",
   "metadata": {},
   "outputs": [
    {
     "data": {
      "text/html": [
       "<div>\n",
       "<style scoped>\n",
       "    .dataframe tbody tr th:only-of-type {\n",
       "        vertical-align: middle;\n",
       "    }\n",
       "\n",
       "    .dataframe tbody tr th {\n",
       "        vertical-align: top;\n",
       "    }\n",
       "\n",
       "    .dataframe thead th {\n",
       "        text-align: right;\n",
       "    }\n",
       "</style>\n",
       "<table border=\"1\" class=\"dataframe\">\n",
       "  <thead>\n",
       "    <tr style=\"text-align: right;\">\n",
       "      <th></th>\n",
       "      <th>userID</th>\n",
       "      <th>itemID</th>\n",
       "      <th>rating</th>\n",
       "    </tr>\n",
       "  </thead>\n",
       "  <tbody>\n",
       "    <tr>\n",
       "      <th>0</th>\n",
       "      <td>1</td>\n",
       "      <td>1</td>\n",
       "      <td>2.5</td>\n",
       "    </tr>\n",
       "    <tr>\n",
       "      <th>1</th>\n",
       "      <td>1</td>\n",
       "      <td>2</td>\n",
       "      <td>3.5</td>\n",
       "    </tr>\n",
       "    <tr>\n",
       "      <th>2</th>\n",
       "      <td>1</td>\n",
       "      <td>3</td>\n",
       "      <td>3.0</td>\n",
       "    </tr>\n",
       "    <tr>\n",
       "      <th>3</th>\n",
       "      <td>1</td>\n",
       "      <td>4</td>\n",
       "      <td>3.5</td>\n",
       "    </tr>\n",
       "    <tr>\n",
       "      <th>4</th>\n",
       "      <td>1</td>\n",
       "      <td>5</td>\n",
       "      <td>2.5</td>\n",
       "    </tr>\n",
       "  </tbody>\n",
       "</table>\n",
       "</div>"
      ],
      "text/plain": [
       "   userID  itemID  rating\n",
       "0       1       1     2.5\n",
       "1       1       2     3.5\n",
       "2       1       3     3.0\n",
       "3       1       4     3.5\n",
       "4       1       5     2.5"
      ]
     },
     "execution_count": 3,
     "metadata": {},
     "output_type": "execute_result"
    }
   ],
   "source": [
    "df = pd.read_csv('Data/movie_rating.csv')\n",
    "df.head(5)"
   ]
  },
  {
   "cell_type": "code",
   "execution_count": 5,
   "id": "887e10a6",
   "metadata": {},
   "outputs": [
    {
     "data": {
      "text/plain": [
       "(7,)"
      ]
     },
     "execution_count": 5,
     "metadata": {},
     "output_type": "execute_result"
    }
   ],
   "source": [
    "n_users = df.userID.unique()\n",
    "n_users.shape"
   ]
  },
  {
   "cell_type": "code",
   "execution_count": 6,
   "id": "e3233eb5",
   "metadata": {},
   "outputs": [
    {
     "name": "stdout",
     "output_type": "stream",
     "text": [
      "\n",
      "Number of users = 7 | Number of movies = 6\n"
     ]
    }
   ],
   "source": [
    "n_users = df.userID.unique().shape[0]\n",
    "n_items = df.itemID.unique().shape[0]\n",
    "print ('\\nNumber of users = ' + str(n_users) + ' | Number of movies = ' + str(n_items))"
   ]
  },
  {
   "cell_type": "code",
   "execution_count": 7,
   "id": "ecfe78a0",
   "metadata": {},
   "outputs": [
    {
     "data": {
      "text/plain": [
       "array([[0., 0., 0., 0., 0., 0.],\n",
       "       [0., 0., 0., 0., 0., 0.],\n",
       "       [0., 0., 0., 0., 0., 0.],\n",
       "       [0., 0., 0., 0., 0., 0.],\n",
       "       [0., 0., 0., 0., 0., 0.],\n",
       "       [0., 0., 0., 0., 0., 0.],\n",
       "       [0., 0., 0., 0., 0., 0.]])"
      ]
     },
     "execution_count": 7,
     "metadata": {},
     "output_type": "execute_result"
    }
   ],
   "source": [
    "# Create user-item matrices\n",
    "df_matrix = np.zeros((n_users, n_items))\n",
    "df_matrix"
   ]
  },
  {
   "cell_type": "code",
   "execution_count": 8,
   "id": "17f47a7c",
   "metadata": {},
   "outputs": [],
   "source": [
    "for line in df.itertuples():\n",
    "    df_matrix[line[1]-1, line[2]-1] = line[3]  "
   ]
  },
  {
   "cell_type": "code",
   "execution_count": 9,
   "id": "5aef2eda",
   "metadata": {},
   "outputs": [
    {
     "data": {
      "text/plain": [
       "array([[2.5, 3.5, 3. , 3.5, 2.5, 3. ],\n",
       "       [3. , 3.5, 1.5, 5. , 3.5, 3. ],\n",
       "       [2.5, 3. , 0. , 3.5, 0. , 4. ],\n",
       "       [0. , 3.5, 3. , 4. , 2.5, 4.5],\n",
       "       [3. , 4. , 2. , 3. , 2. , 3. ],\n",
       "       [3. , 4. , 0. , 5. , 3.5, 3. ],\n",
       "       [4.5, 0. , 0. , 4. , 1. , 0. ]])"
      ]
     },
     "execution_count": 9,
     "metadata": {},
     "output_type": "execute_result"
    }
   ],
   "source": [
    "df_matrix"
   ]
  },
  {
   "cell_type": "code",
   "execution_count": 10,
   "id": "cade2b79",
   "metadata": {},
   "outputs": [],
   "source": [
    "from sklearn.metrics.pairwise import pairwise_distances"
   ]
  },
  {
   "cell_type": "code",
   "execution_count": 11,
   "id": "aa5c8f34",
   "metadata": {},
   "outputs": [],
   "source": [
    "user_similarity = pairwise_distances(df_matrix, metric='euclidean')\n",
    "item_similarity = pairwise_distances(df_matrix.T, metric='euclidean')"
   ]
  },
  {
   "cell_type": "code",
   "execution_count": 12,
   "id": "0a40cdc9",
   "metadata": {},
   "outputs": [
    {
     "data": {
      "text/plain": [
       "array([[0.        , 2.39791576, 4.0620192 , 2.95803989, 1.41421356,\n",
       "        3.57071421, 6.06217783],\n",
       "       [2.39791576, 0.        , 4.27200187, 3.93700394, 2.59807621,\n",
       "        1.58113883, 5.74456265],\n",
       "       [4.0620192 , 4.27200187, 0.        , 4.71699057, 3.24037035,\n",
       "        4.09267639, 5.5       ],\n",
       "       [2.95803989, 3.93700394, 4.71699057, 0.        , 3.70809924,\n",
       "        4.74341649, 8.        ],\n",
       "       [1.41421356, 2.59807621, 3.24037035, 3.70809924, 0.        ,\n",
       "        3.20156212, 5.7662813 ],\n",
       "       [3.57071421, 1.58113883, 4.09267639, 4.74341649, 3.20156212,\n",
       "        0.        , 5.87367006],\n",
       "       [6.06217783, 5.74456265, 5.5       , 8.        , 5.7662813 ,\n",
       "        5.87367006, 0.        ]])"
      ]
     },
     "execution_count": 12,
     "metadata": {},
     "output_type": "execute_result"
    }
   ],
   "source": [
    "user_similarity"
   ]
  },
  {
   "cell_type": "code",
   "execution_count": 13,
   "id": "ce8e3a65",
   "metadata": {},
   "outputs": [
    {
     "name": "stdout",
     "output_type": "stream",
     "text": [
      "Similar users for user id 7: \n",
      " 3    8.000000\n",
      "0    6.062178\n",
      "5    5.873670\n",
      "Name: 6, dtype: float64\n"
     ]
    }
   ],
   "source": [
    "# Top 3 similar users for user id 7\n",
    "print (\"Similar users for user id 7: \\n\", pd.DataFrame(user_similarity).loc[6,pd.DataFrame(user_similarity).loc[6,:] > 0].sort_values(ascending=False)[0:3])"
   ]
  },
  {
   "cell_type": "code",
   "execution_count": 14,
   "id": "57473ffd",
   "metadata": {},
   "outputs": [
    {
     "name": "stdout",
     "output_type": "stream",
     "text": [
      "Similar items for item id 6: \n",
      " 0    6.557439\n",
      "2    5.522681\n",
      "3    4.974937\n",
      "Name: 5, dtype: float64\n"
     ]
    }
   ],
   "source": [
    "# Top 3 similar items for item id 6\n",
    "print (\"Similar items for item id 6: \\n\", pd.DataFrame(item_similarity).loc[5,pd.DataFrame(item_similarity).loc[5,:] > 0].sort_values(ascending=False)[0:3])"
   ]
  },
  {
   "cell_type": "code",
   "execution_count": 15,
   "id": "6633a416",
   "metadata": {},
   "outputs": [
    {
     "data": {
      "text/plain": [
       "array([[3.10089937, 2.87828918, 3.04689383, 2.89342242, 3.09284254,\n",
       "        2.91165823],\n",
       "       [3.18216991, 3.10864889, 3.69949591, 2.74154275, 3.28162252,\n",
       "        3.21345303],\n",
       "       [2.09069955, 1.75272353, 2.78929231, 1.63508431, 2.67424164,\n",
       "        1.67751256],\n",
       "       [3.51787934, 2.45418768, 2.88651247, 2.7049201 , 2.96937945,\n",
       "        2.33093136],\n",
       "       [2.79646314, 2.56351224, 3.0513264 , 2.67727657, 2.99229519,\n",
       "        2.6587726 ],\n",
       "       [2.93354359, 2.72271192, 3.79381417, 2.38652591, 3.09936037,\n",
       "        2.91180187],\n",
       "       [0.86159244, 2.18940726, 2.22645543, 1.0060282 , 1.90409916,\n",
       "        2.26249703]])"
      ]
     },
     "execution_count": 15,
     "metadata": {},
     "output_type": "execute_result"
    }
   ],
   "source": [
    "# Function for item based rating prediction\n",
    "def item_based_prediction(rating_matrix, similarity_matrix):\n",
    "    return rating_matrix.dot(similarity_matrix) / np.array([np.abs(similarity_matrix).sum(axis=1)])     \n",
    "\n",
    "item_based_prediction = item_based_prediction(df_matrix, item_similarity)\n",
    "item_based_prediction"
   ]
  },
  {
   "cell_type": "code",
   "execution_count": 16,
   "id": "a0f16507",
   "metadata": {},
   "outputs": [
    {
     "data": {
      "text/plain": [
       "array([[3.47624566, 3.05055639, 1.31236664, 4.68808306, 2.38133332,\n",
       "        3.09141493],\n",
       "       [3.53242292, 3.36886851, 2.0292077 , 4.63847048, 2.42427894,\n",
       "        3.50675144],\n",
       "       [2.14285946, 2.34725298, 0.96474355, 3.5688081 , 1.8911387 ,\n",
       "        2.08519721],\n",
       "       [3.72430235, 3.00224662, 1.22435809, 4.47388218, 2.32888497,\n",
       "        2.74632579],\n",
       "       [3.10729794, 2.83457839, 1.31492   , 4.52250588, 2.29876945,\n",
       "        2.92192835],\n",
       "       [3.21400701, 3.20445179, 2.07709214, 4.37874238, 2.28863638,\n",
       "        3.3370703 ],\n",
       "       [0.89326735, 2.28241501, 0.38650895, 2.70124095, 1.06358937,\n",
       "        2.17297838]])"
      ]
     },
     "execution_count": 16,
     "metadata": {},
     "output_type": "execute_result"
    }
   ],
   "source": [
    "# Function for user based rating prediction\n",
    "def user_based_prediction(rating_matrix, similarity_matrix):\n",
    "    mean_user_rating = rating_matrix.mean(axis=1)\n",
    "    ratings_diff = (rating_matrix - mean_user_rating[:, np.newaxis]) \n",
    "    return mean_user_rating[:, np.newaxis] + similarity_matrix.dot(ratings_diff) / np.array([np.abs(similarity_matrix).sum(axis=1)]).T\n",
    "\n",
    "user_based_prediction = user_based_prediction(df_matrix, user_similarity)\n",
    "user_based_prediction"
   ]
  },
  {
   "cell_type": "code",
   "execution_count": 17,
   "id": "eff17912",
   "metadata": {},
   "outputs": [
    {
     "name": "stdout",
     "output_type": "stream",
     "text": [
      "User-based CF RMSE: 1.0705767848964718\n",
      "Item-based CF RMSE: 1.3739228897064588\n"
     ]
    }
   ],
   "source": [
    "# Calculate the RMSE\n",
    "from sklearn.metrics import mean_squared_error\n",
    "from math import sqrt\n",
    "def rmse(prediction, actual):\n",
    "    prediction = prediction[actual.nonzero()].flatten() \n",
    "    actual = actual[actual.nonzero()].flatten()\n",
    "    return sqrt(mean_squared_error(prediction, actual))\n",
    "\n",
    "print ('User-based CF RMSE: ' + str(rmse(user_based_prediction, df_matrix)))\n",
    "print ('Item-based CF RMSE: ' + str(rmse(item_based_prediction, df_matrix))) "
   ]
  },
  {
   "cell_type": "code",
   "execution_count": 18,
   "id": "8c5bd623",
   "metadata": {},
   "outputs": [
    {
     "name": "stdout",
     "output_type": "stream",
     "text": [
      "   Predicted Rating\n",
      "1          2.282415\n"
     ]
    }
   ],
   "source": [
    "y_user_based = pd.DataFrame(user_based_prediction)\n",
    "\n",
    "# Predictions for movies that the user 6 hasn't rated yet\n",
    "predictions = y_user_based.loc[6,pd.DataFrame(df_matrix).loc[6,:] == 0] \n",
    "top = predictions.sort_values(ascending=False).head(n=1)\n",
    "recommendations = pd.DataFrame(data=top)\n",
    "recommendations.columns = ['Predicted Rating']\n",
    "print (recommendations)"
   ]
  },
  {
   "cell_type": "code",
   "execution_count": 20,
   "id": "c4df62e6",
   "metadata": {},
   "outputs": [
    {
     "name": "stdout",
     "output_type": "stream",
     "text": [
      "   Predicted Rating\n",
      "5          2.262497\n"
     ]
    }
   ],
   "source": [
    "y_item_based = pd.DataFrame(item_based_prediction)\n",
    "\n",
    "# Predictions for movies that the user 6 hasn't rated yet\n",
    "predictions = y_item_based.loc[6,pd.DataFrame(df_matrix).loc[6,:] == 0] \n",
    "top = predictions.sort_values(ascending=False).head(n=1)\n",
    "recommendations = pd.DataFrame(data=top)\n",
    "recommendations.columns = ['Predicted Rating']\n",
    "print (recommendations)"
   ]
  },
  {
   "cell_type": "markdown",
   "id": "248a3e83",
   "metadata": {},
   "source": [
    "**Model based collaborative filtering (user based similarity)**"
   ]
  },
  {
   "cell_type": "code",
   "execution_count": 22,
   "id": "8013d67c",
   "metadata": {},
   "outputs": [
    {
     "name": "stdout",
     "output_type": "stream",
     "text": [
      "The sparsity level of is 0.0%\n"
     ]
    }
   ],
   "source": [
    "# calculate sparsity level\n",
    "sparsity=round(1.0-len(df)/float(n_users*n_items),3)\n",
    "print ('The sparsity level of is ' +  str(sparsity*100) + '%')\n"
   ]
  },
  {
   "cell_type": "code",
   "execution_count": 23,
   "id": "c2ed02a0",
   "metadata": {},
   "outputs": [
    {
     "name": "stdout",
     "output_type": "stream",
     "text": [
      "User-based CF MSE: 0.01574289899495078\n"
     ]
    }
   ],
   "source": [
    "import scipy.sparse as sp\n",
    "from scipy.sparse.linalg import svds\n",
    "\n",
    "# Get SVD components from train matrix. Choose k.\n",
    "u, s, vt = svds(df_matrix, k = 5)\n",
    "s_diag_matrix=np.diag(s)\n",
    "X_pred = np.dot(np.dot(u, s_diag_matrix), vt)\n",
    "print ('User-based CF MSE: ' + str(rmse(X_pred, df_matrix)))"
   ]
  },
  {
   "cell_type": "code",
   "execution_count": null,
   "id": "7a75b744",
   "metadata": {},
   "outputs": [],
   "source": []
  }
 ],
 "metadata": {
  "kernelspec": {
   "display_name": "Python 3 (ipykernel)",
   "language": "python",
   "name": "python3"
  },
  "language_info": {
   "codemirror_mode": {
    "name": "ipython",
    "version": 3
   },
   "file_extension": ".py",
   "mimetype": "text/x-python",
   "name": "python",
   "nbconvert_exporter": "python",
   "pygments_lexer": "ipython3",
   "version": "3.10.12"
  }
 },
 "nbformat": 4,
 "nbformat_minor": 5
}
