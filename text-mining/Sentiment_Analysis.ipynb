{
 "cells": [
  {
   "cell_type": "code",
   "execution_count": 4,
   "id": "a0dab092",
   "metadata": {},
   "outputs": [
    {
     "name": "stderr",
     "output_type": "stream",
     "text": [
      "[nltk_data] Downloading package vader_lexicon to\n",
      "[nltk_data]     /home/kazi/nltk_data...\n"
     ]
    },
    {
     "data": {
      "text/plain": [
       "True"
      ]
     },
     "execution_count": 4,
     "metadata": {},
     "output_type": "execute_result"
    }
   ],
   "source": [
    "import pandas as pd\n",
    "from nltk.sentiment.vader import SentimentIntensityAnalyzer\n",
    "from nltk.sentiment.util import *\n",
    "import matplotlib.pyplot as plt\n",
    "nltk.download('vader_lexicon')"
   ]
  },
  {
   "cell_type": "code",
   "execution_count": 5,
   "id": "27f11804",
   "metadata": {},
   "outputs": [
    {
     "data": {
      "text/html": [
       "<div>\n",
       "<style scoped>\n",
       "    .dataframe tbody tr th:only-of-type {\n",
       "        vertical-align: middle;\n",
       "    }\n",
       "\n",
       "    .dataframe tbody tr th {\n",
       "        vertical-align: top;\n",
       "    }\n",
       "\n",
       "    .dataframe thead th {\n",
       "        text-align: right;\n",
       "    }\n",
       "</style>\n",
       "<table border=\"1\" class=\"dataframe\">\n",
       "  <thead>\n",
       "    <tr style=\"text-align: right;\">\n",
       "      <th></th>\n",
       "      <th>ID</th>\n",
       "      <th>Review</th>\n",
       "    </tr>\n",
       "  </thead>\n",
       "  <tbody>\n",
       "    <tr>\n",
       "      <th>0</th>\n",
       "      <td>1</td>\n",
       "      <td>Excellent service my claim was dealt with very...</td>\n",
       "    </tr>\n",
       "    <tr>\n",
       "      <th>1</th>\n",
       "      <td>2</td>\n",
       "      <td>Very sympathetically dealt within all aspects ...</td>\n",
       "    </tr>\n",
       "    <tr>\n",
       "      <th>2</th>\n",
       "      <td>3</td>\n",
       "      <td>Having received yet another ludicrous quote fr...</td>\n",
       "    </tr>\n",
       "    <tr>\n",
       "      <th>3</th>\n",
       "      <td>4</td>\n",
       "      <td>Very prompt and fair handling of claim. A mino...</td>\n",
       "    </tr>\n",
       "    <tr>\n",
       "      <th>4</th>\n",
       "      <td>5</td>\n",
       "      <td>Very good and excellent value for money simple...</td>\n",
       "    </tr>\n",
       "  </tbody>\n",
       "</table>\n",
       "</div>"
      ],
      "text/plain": [
       "   ID                                             Review\n",
       "0   1  Excellent service my claim was dealt with very...\n",
       "1   2  Very sympathetically dealt within all aspects ...\n",
       "2   3  Having received yet another ludicrous quote fr...\n",
       "3   4  Very prompt and fair handling of claim. A mino...\n",
       "4   5  Very good and excellent value for money simple..."
      ]
     },
     "execution_count": 5,
     "metadata": {},
     "output_type": "execute_result"
    }
   ],
   "source": [
    "data = pd.read_csv('Data/customer_review.csv')\n",
    "data.head(5)"
   ]
  },
  {
   "cell_type": "code",
   "execution_count": 7,
   "id": "415f477c",
   "metadata": {},
   "outputs": [
    {
     "data": {
      "text/plain": [
       "<nltk.sentiment.vader.SentimentIntensityAnalyzer at 0x7fe640800e20>"
      ]
     },
     "execution_count": 7,
     "metadata": {},
     "output_type": "execute_result"
    }
   ],
   "source": [
    "SIA = SentimentIntensityAnalyzer()\n",
    "SIA"
   ]
  },
  {
   "cell_type": "code",
   "execution_count": 9,
   "id": "ea61be6c",
   "metadata": {},
   "outputs": [
    {
     "data": {
      "text/plain": [
       "{'neg': 0.0, 'neu': 0.0, 'pos': 1.0, 'compound': 0.0772}"
      ]
     },
     "execution_count": 9,
     "metadata": {},
     "output_type": "execute_result"
    }
   ],
   "source": [
    "# sentence = 'sentence'\n",
    "# sentiment_dict = SIA.polarity_scores(sentence)\n",
    "# sentiment_dict\n",
    "# output: {'neg': 0.0, 'neu': 0.0, 'pos': 1.0, 'compound': 0.0772}"
   ]
  },
  {
   "cell_type": "code",
   "execution_count": 10,
   "id": "0c4447d9",
   "metadata": {},
   "outputs": [
    {
     "data": {
      "text/html": [
       "<div>\n",
       "<style scoped>\n",
       "    .dataframe tbody tr th:only-of-type {\n",
       "        vertical-align: middle;\n",
       "    }\n",
       "\n",
       "    .dataframe tbody tr th {\n",
       "        vertical-align: top;\n",
       "    }\n",
       "\n",
       "    .dataframe thead th {\n",
       "        text-align: right;\n",
       "    }\n",
       "</style>\n",
       "<table border=\"1\" class=\"dataframe\">\n",
       "  <thead>\n",
       "    <tr style=\"text-align: right;\">\n",
       "      <th></th>\n",
       "      <th>ID</th>\n",
       "      <th>Review</th>\n",
       "      <th>polarity_score</th>\n",
       "      <th>neutral_score</th>\n",
       "      <th>negative_score</th>\n",
       "      <th>positive_score</th>\n",
       "      <th>sentiment</th>\n",
       "    </tr>\n",
       "  </thead>\n",
       "  <tbody>\n",
       "    <tr>\n",
       "      <th>0</th>\n",
       "      <td>1</td>\n",
       "      <td>Excellent service my claim was dealt with very...</td>\n",
       "      <td>0.7346</td>\n",
       "      <td>0.618</td>\n",
       "      <td>0.000</td>\n",
       "      <td>0.382</td>\n",
       "      <td>POSITIVE</td>\n",
       "    </tr>\n",
       "    <tr>\n",
       "      <th>1</th>\n",
       "      <td>2</td>\n",
       "      <td>Very sympathetically dealt within all aspects ...</td>\n",
       "      <td>-0.8155</td>\n",
       "      <td>0.680</td>\n",
       "      <td>0.320</td>\n",
       "      <td>0.000</td>\n",
       "      <td>NEGATIVE</td>\n",
       "    </tr>\n",
       "    <tr>\n",
       "      <th>2</th>\n",
       "      <td>3</td>\n",
       "      <td>Having received yet another ludicrous quote fr...</td>\n",
       "      <td>0.9785</td>\n",
       "      <td>0.711</td>\n",
       "      <td>0.039</td>\n",
       "      <td>0.251</td>\n",
       "      <td>POSITIVE</td>\n",
       "    </tr>\n",
       "    <tr>\n",
       "      <th>3</th>\n",
       "      <td>4</td>\n",
       "      <td>Very prompt and fair handling of claim. A mino...</td>\n",
       "      <td>0.1440</td>\n",
       "      <td>0.651</td>\n",
       "      <td>0.135</td>\n",
       "      <td>0.214</td>\n",
       "      <td>POSITIVE</td>\n",
       "    </tr>\n",
       "    <tr>\n",
       "      <th>4</th>\n",
       "      <td>5</td>\n",
       "      <td>Very good and excellent value for money simple...</td>\n",
       "      <td>0.8610</td>\n",
       "      <td>0.485</td>\n",
       "      <td>0.000</td>\n",
       "      <td>0.515</td>\n",
       "      <td>POSITIVE</td>\n",
       "    </tr>\n",
       "    <tr>\n",
       "      <th>...</th>\n",
       "      <td>...</td>\n",
       "      <td>...</td>\n",
       "      <td>...</td>\n",
       "      <td>...</td>\n",
       "      <td>...</td>\n",
       "      <td>...</td>\n",
       "      <td>...</td>\n",
       "    </tr>\n",
       "    <tr>\n",
       "      <th>1611</th>\n",
       "      <td>1612</td>\n",
       "      <td>I did not like that the company wanted extra m...</td>\n",
       "      <td>-0.5603</td>\n",
       "      <td>0.833</td>\n",
       "      <td>0.167</td>\n",
       "      <td>0.000</td>\n",
       "      <td>NEGATIVE</td>\n",
       "    </tr>\n",
       "    <tr>\n",
       "      <th>1612</th>\n",
       "      <td>1613</td>\n",
       "      <td>I contacted  with regards to our Home and Cont...</td>\n",
       "      <td>0.8589</td>\n",
       "      <td>0.861</td>\n",
       "      <td>0.000</td>\n",
       "      <td>0.139</td>\n",
       "      <td>POSITIVE</td>\n",
       "    </tr>\n",
       "    <tr>\n",
       "      <th>1613</th>\n",
       "      <td>1614</td>\n",
       "      <td>I first dealt with  when I had to insure my mu...</td>\n",
       "      <td>0.9247</td>\n",
       "      <td>0.714</td>\n",
       "      <td>0.000</td>\n",
       "      <td>0.286</td>\n",
       "      <td>POSITIVE</td>\n",
       "    </tr>\n",
       "    <tr>\n",
       "      <th>1614</th>\n",
       "      <td>1615</td>\n",
       "      <td>Rang  to update address on our multi-car polic...</td>\n",
       "      <td>0.7257</td>\n",
       "      <td>0.894</td>\n",
       "      <td>0.000</td>\n",
       "      <td>0.106</td>\n",
       "      <td>POSITIVE</td>\n",
       "    </tr>\n",
       "    <tr>\n",
       "      <th>1615</th>\n",
       "      <td>1616</td>\n",
       "      <td>Product is sufficient - good coverage with eno...</td>\n",
       "      <td>0.9127</td>\n",
       "      <td>0.767</td>\n",
       "      <td>0.000</td>\n",
       "      <td>0.233</td>\n",
       "      <td>POSITIVE</td>\n",
       "    </tr>\n",
       "  </tbody>\n",
       "</table>\n",
       "<p>1616 rows × 7 columns</p>\n",
       "</div>"
      ],
      "text/plain": [
       "        ID                                             Review  polarity_score  \\\n",
       "0        1  Excellent service my claim was dealt with very...          0.7346   \n",
       "1        2  Very sympathetically dealt within all aspects ...         -0.8155   \n",
       "2        3  Having received yet another ludicrous quote fr...          0.9785   \n",
       "3        4  Very prompt and fair handling of claim. A mino...          0.1440   \n",
       "4        5  Very good and excellent value for money simple...          0.8610   \n",
       "...    ...                                                ...             ...   \n",
       "1611  1612  I did not like that the company wanted extra m...         -0.5603   \n",
       "1612  1613  I contacted  with regards to our Home and Cont...          0.8589   \n",
       "1613  1614  I first dealt with  when I had to insure my mu...          0.9247   \n",
       "1614  1615  Rang  to update address on our multi-car polic...          0.7257   \n",
       "1615  1616  Product is sufficient - good coverage with eno...          0.9127   \n",
       "\n",
       "      neutral_score  negative_score  positive_score sentiment  \n",
       "0             0.618           0.000           0.382  POSITIVE  \n",
       "1             0.680           0.320           0.000  NEGATIVE  \n",
       "2             0.711           0.039           0.251  POSITIVE  \n",
       "3             0.651           0.135           0.214  POSITIVE  \n",
       "4             0.485           0.000           0.515  POSITIVE  \n",
       "...             ...             ...             ...       ...  \n",
       "1611          0.833           0.167           0.000  NEGATIVE  \n",
       "1612          0.861           0.000           0.139  POSITIVE  \n",
       "1613          0.714           0.000           0.286  POSITIVE  \n",
       "1614          0.894           0.000           0.106  POSITIVE  \n",
       "1615          0.767           0.000           0.233  POSITIVE  \n",
       "\n",
       "[1616 rows x 7 columns]"
      ]
     },
     "execution_count": 10,
     "metadata": {},
     "output_type": "execute_result"
    }
   ],
   "source": [
    "data['polarity_score']=data.Review.apply(lambda x:SIA.polarity_scores(x)['compound'])\n",
    "data['neutral_score']=data.Review.apply(lambda x:SIA.polarity_scores(x)['neu'])\n",
    "data['negative_score']=data.Review.apply(lambda x:SIA.polarity_scores(x)['neg'])\n",
    "data['positive_score']=data.Review.apply(lambda x:SIA.polarity_scores(x)['pos'])\n",
    "data['sentiment']=''\n",
    "data.loc[data.polarity_score>0,'sentiment']='POSITIVE'\n",
    "data.loc[data.polarity_score==0,'sentiment']='NEUTRAL'\n",
    "data.loc[data.polarity_score<0,'sentiment']='NEGATIVE'\n",
    "data"
   ]
  },
  {
   "cell_type": "code",
   "execution_count": 11,
   "id": "48fa5222",
   "metadata": {},
   "outputs": [
    {
     "data": {
      "image/png": "[encoded data removed]",
      "text/plain": [
       "<Figure size 640x480 with 1 Axes>"
      ]
     },
     "metadata": {},
     "output_type": "display_data"
    }
   ],
   "source": [
    "data.sentiment.value_counts().plot(kind='bar',title=\"sentiment analysis\")\n",
    "plt.show()"
   ]
  },
  {
   "cell_type": "code",
   "execution_count": null,
   "id": "4c4f2a98",
   "metadata": {},
   "outputs": [],
   "source": []
  }
 ],
 "metadata": {
  "kernelspec": {
   "display_name": "Python 3 (ipykernel)",
   "language": "python",
   "name": "python3"
  },
  "language_info": {
   "codemirror_mode": {
    "name": "ipython",
    "version": 3
   },
   "file_extension": ".py",
   "mimetype": "text/x-python",
   "name": "python",
   "nbconvert_exporter": "python",
   "pygments_lexer": "ipython3",
   "version": "3.10.12"
  }
 },
 "nbformat": 4,
 "nbformat_minor": 5
}
