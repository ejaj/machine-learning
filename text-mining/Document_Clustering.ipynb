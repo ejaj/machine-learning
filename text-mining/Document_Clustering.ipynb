{
 "cells": [
  {
   "cell_type": "code",
   "execution_count": 13,
   "id": "e1c3f3eb",
   "metadata": {},
   "outputs": [],
   "source": [
    "from sklearn.datasets import fetch_20newsgroups\n",
    "from sklearn.feature_extraction.text import TfidfVectorizer\n",
    "from sklearn.preprocessing import Normalizer\n",
    "from sklearn import metrics\n",
    "from sklearn.cluster import KMeans, MiniBatchKMeans\n",
    "import numpy as np"
   ]
  },
  {
   "cell_type": "code",
   "execution_count": 14,
   "id": "4d69b4b5",
   "metadata": {},
   "outputs": [
    {
     "name": "stdout",
     "output_type": "stream",
     "text": [
      "['alt.atheism', 'comp.graphics', 'comp.os.ms-windows.misc', 'comp.sys.ibm.pc.hardware', 'comp.sys.mac.hardware', 'comp.windows.x', 'misc.forsale', 'rec.autos', 'rec.motorcycles', 'rec.sport.baseball', 'rec.sport.hockey', 'sci.crypt', 'sci.electronics', 'sci.med', 'sci.space', 'soc.religion.christian', 'talk.politics.guns', 'talk.politics.mideast', 'talk.politics.misc', 'talk.religion.misc']\n"
     ]
    }
   ],
   "source": [
    "newgroups_train = fetch_20newsgroups(subset='train')\n",
    "print(list(newgroups_train.target_names))"
   ]
  },
  {
   "cell_type": "code",
   "execution_count": 15,
   "id": "c27b31fe",
   "metadata": {},
   "outputs": [],
   "source": [
    "categories = ['alt.atheism', 'comp.graphics', 'rec.motorcycles']"
   ]
  },
  {
   "cell_type": "code",
   "execution_count": 16,
   "id": "d7e07203",
   "metadata": {},
   "outputs": [],
   "source": [
    "dataset = fetch_20newsgroups(subset='all', categories=categories,\n",
    "shuffle=True, random_state=2017)"
   ]
  },
  {
   "cell_type": "code",
   "execution_count": 17,
   "id": "91998332",
   "metadata": {},
   "outputs": [
    {
     "name": "stdout",
     "output_type": "stream",
     "text": [
      "2768 documents\n",
      "3 categories\n"
     ]
    }
   ],
   "source": [
    "print(\"%d documents\" % len(dataset.data))\n",
    "print(\"%d categories\" % len(dataset.target_names))"
   ]
  },
  {
   "cell_type": "code",
   "execution_count": 18,
   "id": "32bcf91b",
   "metadata": {},
   "outputs": [
    {
     "data": {
      "text/plain": [
       "array([1, 1, 2, ..., 0, 2, 2])"
      ]
     },
     "execution_count": 18,
     "metadata": {},
     "output_type": "execute_result"
    }
   ],
   "source": [
    "labels = dataset.target\n",
    "labels"
   ]
  },
  {
   "cell_type": "code",
   "execution_count": 19,
   "id": "9a8397e9",
   "metadata": {},
   "outputs": [
    {
     "name": "stdout",
     "output_type": "stream",
     "text": [
      "Extracting features from the dataset using a sparse vectorizer\n",
      "n_samples: 2768, n_features: 35311\n"
     ]
    }
   ],
   "source": [
    "print(\"Extracting features from the dataset using a sparse vectorizer\")\n",
    "vectorizer = TfidfVectorizer(stop_words='english')\n",
    "X = vectorizer.fit_transform(dataset.data)\n",
    "print(\"n_samples: %d, n_features: %d\" % X.shape)"
   ]
  },
  {
   "cell_type": "code",
   "execution_count": 20,
   "id": "dbfb9b5b",
   "metadata": {},
   "outputs": [
    {
     "name": "stdout",
     "output_type": "stream",
     "text": [
      "Explained variance of the SVD step: 33%\n"
     ]
    }
   ],
   "source": [
    "from sklearn.decomposition import TruncatedSVD\n",
    "from sklearn.pipeline import make_pipeline\n",
    "\n",
    "svd = TruncatedSVD(200) #reduce the dimensionality to 2000\n",
    "lsa = make_pipeline(svd, Normalizer(copy=False))\n",
    "\n",
    "X = lsa.fit_transform(X)\n",
    "\n",
    "explained_variance = svd.explained_variance_ratio_.sum()\n",
    "print(\"Explained variance of the SVD step: {}%\".format(int(explained_variance * 100)))"
   ]
  },
  {
   "cell_type": "markdown",
   "id": "c925f13f",
   "metadata": {},
   "source": [
    "**k-means clustering**"
   ]
  },
  {
   "cell_type": "code",
   "execution_count": 23,
   "id": "0866ff64",
   "metadata": {},
   "outputs": [
    {
     "name": "stdout",
     "output_type": "stream",
     "text": [
      "Clustering sparse data with KMeans(max_iter=100, n_clusters=3, n_init=1)\n"
     ]
    },
    {
     "data": {
      "text/plain": [
       "array([[ 2.22416361e-01, -1.09003234e-01, -1.03827819e-01,\n",
       "         1.46204293e-01,  4.02581927e-02, -1.52550833e-02,\n",
       "         2.14283879e-02,  1.09758916e-02, -1.07514293e-02,\n",
       "        -5.60613945e-03, -3.85422006e-03,  7.25942521e-04,\n",
       "         9.09039922e-03,  3.76121999e-03, -1.02118550e-03,\n",
       "         9.21753991e-03,  4.00159955e-03,  8.90095648e-04,\n",
       "        -4.91182573e-03,  1.77486019e-02,  1.58195352e-02,\n",
       "         3.91966524e-03,  9.78442468e-03, -1.02696540e-02,\n",
       "        -8.75377023e-04,  5.04290435e-03, -6.17627149e-04,\n",
       "         1.32576005e-02, -1.63698499e-02,  1.05739109e-03,\n",
       "         4.52977216e-05,  8.28950280e-03,  4.61500590e-03,\n",
       "        -6.60125032e-03,  1.54355839e-02, -2.96796552e-03,\n",
       "        -6.85305734e-03,  1.52834179e-03, -5.17090964e-03,\n",
       "        -6.55149096e-05,  5.61826156e-03, -2.30425524e-03,\n",
       "        -6.94356507e-03, -8.03367230e-03, -3.35184695e-03,\n",
       "        -6.22685701e-03, -3.94712295e-03,  1.16358659e-02,\n",
       "        -4.19968246e-03, -2.02057145e-03, -2.45500025e-03,\n",
       "         1.30643475e-02,  3.91690285e-03, -8.01424279e-03,\n",
       "        -8.88388155e-04, -2.98504159e-03, -1.27202783e-02,\n",
       "         8.25647770e-03, -5.59932958e-03,  7.56823839e-04,\n",
       "         6.47523120e-03,  4.46261822e-04,  6.44886850e-03,\n",
       "        -4.97474771e-03,  1.01100185e-02, -1.42026223e-04,\n",
       "        -5.12747947e-03,  4.49210397e-04, -3.82519639e-03,\n",
       "         3.37544296e-03,  6.12355823e-03, -9.17063575e-04,\n",
       "        -9.68616871e-03,  5.63493548e-03, -2.08089652e-03,\n",
       "        -1.88772924e-03, -1.65190071e-03,  2.12111776e-03,\n",
       "         5.23499160e-03, -1.90650119e-03, -5.36463855e-03,\n",
       "        -2.22818562e-03,  2.09373577e-03,  7.64166041e-03,\n",
       "         6.00532080e-03, -2.18574974e-03,  9.28014760e-03,\n",
       "         1.20136968e-03, -4.85877293e-03,  1.43069870e-03,\n",
       "        -7.00942738e-03,  1.31191570e-03, -1.74485387e-03,\n",
       "        -3.62545309e-03,  4.18462938e-03, -4.24623641e-03,\n",
       "         9.90069018e-03,  3.99206659e-03, -1.94596791e-03,\n",
       "         3.48357128e-03, -9.61201928e-03, -4.27162522e-03,\n",
       "         7.27673469e-03, -7.92336308e-03, -2.41232604e-03,\n",
       "        -3.39619856e-03, -5.53123806e-03, -2.99609225e-04,\n",
       "        -1.87295195e-03, -2.60296613e-03, -5.29979395e-03,\n",
       "         6.29329396e-03, -7.70644633e-04,  1.75488975e-04,\n",
       "         5.43431590e-04, -6.74632969e-03,  5.10433736e-04,\n",
       "        -2.87168800e-03,  1.46650512e-03, -4.52709890e-04,\n",
       "        -3.47110140e-03, -5.75287200e-03,  6.09483213e-04,\n",
       "        -5.03486615e-03,  2.52747422e-03, -2.94216772e-03,\n",
       "         5.29457741e-03,  3.40586989e-03,  1.12661530e-03,\n",
       "        -1.84775260e-03, -5.08987053e-03, -3.84890757e-03,\n",
       "        -8.21357563e-03, -1.06300390e-03,  7.23760969e-04,\n",
       "        -1.78339630e-03, -3.61829856e-03, -1.96737995e-03,\n",
       "         6.74025826e-03, -3.86274863e-03,  8.43714262e-03,\n",
       "         1.02859723e-03,  4.07486208e-03, -1.26573890e-03,\n",
       "         2.73139096e-03,  7.24513001e-03, -1.49361488e-04,\n",
       "         2.49976820e-03, -2.41280752e-03,  5.29097761e-03,\n",
       "        -4.36877013e-03,  1.52639463e-03, -4.81589425e-03,\n",
       "         3.65069453e-03,  1.20327947e-03, -1.91617507e-03,\n",
       "         2.01358179e-03,  7.02376191e-04, -1.26284526e-03,\n",
       "         1.87492990e-03,  2.78976610e-03,  1.71137219e-04,\n",
       "        -4.37271681e-03, -4.65560279e-03, -2.98284232e-03,\n",
       "        -1.97375964e-03,  2.00498874e-03,  1.44359695e-03,\n",
       "         6.15288102e-03,  2.47077795e-03, -2.82691926e-03,\n",
       "         1.41160376e-03, -1.79416566e-03, -5.31360497e-03,\n",
       "         2.46691796e-03,  2.88468957e-03, -7.23874700e-03,\n",
       "        -1.09783155e-03, -2.23994831e-03,  1.50104436e-03,\n",
       "         1.61984692e-03, -1.37951612e-03, -1.46556520e-04,\n",
       "        -5.53604565e-03,  9.31201767e-03,  5.05357277e-03,\n",
       "         4.42548536e-03, -4.57281334e-03, -4.63134097e-03,\n",
       "        -1.17667317e-03,  5.48378266e-04, -3.37976940e-03,\n",
       "         6.57175431e-04,  1.82417062e-03,  5.10847986e-03,\n",
       "         1.82688186e-04,  2.04064696e-03,  5.07526192e-03,\n",
       "         8.63595439e-04, -3.79822931e-03],\n",
       "       [ 2.84159004e-01,  1.38105932e-01, -5.62184612e-02,\n",
       "        -6.34129492e-02,  1.29554429e-02,  6.08028017e-03,\n",
       "        -1.40262452e-02,  3.04495000e-03,  5.74165686e-03,\n",
       "         1.72273837e-02, -7.29959157e-03, -5.06050036e-03,\n",
       "         4.09322027e-03,  1.30539433e-03, -9.03881787e-04,\n",
       "        -5.64894795e-03,  3.48615661e-03, -1.51485936e-03,\n",
       "         5.48589460e-03,  2.08174560e-04,  1.88241229e-04,\n",
       "         1.59295681e-03,  1.38391250e-02, -4.95154804e-04,\n",
       "         3.96646091e-03,  3.26801302e-03,  6.83444181e-03,\n",
       "        -5.30411898e-03,  7.19718918e-04, -1.27031520e-03,\n",
       "        -1.09435971e-02,  2.16129383e-03,  3.22951070e-03,\n",
       "         4.73758837e-03, -8.21584452e-03,  3.05610078e-03,\n",
       "        -1.17714712e-04,  3.19753308e-03,  7.64771802e-03,\n",
       "         3.83822950e-03,  4.83387119e-04,  4.90977415e-03,\n",
       "         2.97756653e-04,  4.33142459e-04, -5.00158315e-03,\n",
       "        -9.76898853e-04,  8.94050470e-04,  3.24215670e-03,\n",
       "         5.64607195e-03, -2.70455008e-03, -1.94491058e-03,\n",
       "         2.03392486e-03, -3.85435686e-03,  4.64492718e-03,\n",
       "         1.38731397e-03, -1.94976312e-03,  2.01605829e-03,\n",
       "        -1.91212256e-03,  2.83363944e-03,  1.05573902e-03,\n",
       "        -2.72141013e-03,  1.78570267e-03,  3.36188934e-03,\n",
       "        -2.30945064e-03, -5.22892495e-04,  2.17868958e-03,\n",
       "        -1.12714191e-04, -1.03886055e-03,  2.85425483e-03,\n",
       "        -8.81453136e-04, -1.69701523e-03, -6.18838504e-04,\n",
       "        -2.02084094e-03,  4.63502067e-03,  1.27204680e-03,\n",
       "         2.09173114e-04,  2.35771047e-03,  6.80998268e-04,\n",
       "        -2.56061938e-03, -2.54989968e-04,  5.73829382e-03,\n",
       "         1.47350693e-03, -3.25955204e-03,  1.11191519e-03,\n",
       "        -2.33777195e-03,  2.43608468e-04,  2.27219305e-04,\n",
       "        -3.81441954e-03,  3.78511677e-03, -1.04054814e-03,\n",
       "        -1.87854889e-03,  2.07052433e-03,  2.10004693e-04,\n",
       "         2.21135288e-03, -1.63470938e-03, -6.84686305e-04,\n",
       "         1.36485618e-04,  3.59930606e-03,  3.09658246e-03,\n",
       "         3.64469440e-03, -2.45831094e-03,  1.40741900e-03,\n",
       "         1.86029801e-03, -1.62654194e-04, -3.16701975e-03,\n",
       "         3.86968322e-04,  1.17998196e-03,  3.06647533e-03,\n",
       "        -3.09349007e-03, -2.03050468e-04, -6.99037594e-04,\n",
       "        -1.12838893e-03, -1.69937600e-03, -1.51016507e-03,\n",
       "         3.72639341e-03, -6.47839056e-05, -1.64066226e-03,\n",
       "        -1.33009011e-03, -1.40860434e-03, -4.20454485e-04,\n",
       "         5.16963792e-03,  3.48832784e-03,  1.37798066e-03,\n",
       "         5.02611000e-03, -1.41672252e-03,  1.34423111e-03,\n",
       "         1.02651657e-03, -1.04505533e-03, -7.75943312e-04,\n",
       "        -6.70079415e-03,  9.09577905e-04, -1.33343928e-04,\n",
       "         2.14972322e-03,  1.08672704e-03, -6.03404371e-04,\n",
       "         1.23715414e-03, -2.17519804e-03, -1.81451568e-03,\n",
       "         3.21496257e-04, -1.91210620e-03, -4.99619213e-04,\n",
       "         1.28043016e-03, -3.93468682e-03, -8.54521610e-04,\n",
       "        -3.33988429e-03,  4.58063717e-04,  1.38472071e-03,\n",
       "         3.65797910e-03,  2.08866382e-03, -3.40874978e-04,\n",
       "         1.15541083e-03,  1.64420532e-03,  9.48903793e-05,\n",
       "        -1.47590977e-03,  1.11597585e-03, -2.34867433e-04,\n",
       "         9.36030020e-04,  1.67916634e-03,  1.95449915e-03,\n",
       "        -2.23492265e-03, -1.54684201e-03, -5.29025846e-03,\n",
       "        -2.28550126e-04,  2.98064074e-03,  2.69278554e-03,\n",
       "         1.07816224e-03,  2.97157336e-04, -1.02639748e-03,\n",
       "         4.35697777e-04, -4.13127591e-03,  2.40931846e-03,\n",
       "         3.95737960e-03,  9.40149024e-04, -2.20418613e-03,\n",
       "         6.73270777e-04,  2.43882724e-03,  8.19169908e-04,\n",
       "        -2.22452723e-03,  3.26829447e-05,  1.41240004e-03,\n",
       "        -1.64202049e-03, -7.73776802e-04, -1.17764284e-03,\n",
       "        -1.87698631e-03,  2.98591862e-03, -6.12262901e-04,\n",
       "        -2.27803468e-03, -6.65796111e-04, -1.36546512e-03,\n",
       "        -2.89786558e-04,  2.72912921e-03, -2.39249746e-03,\n",
       "        -1.02605475e-03, -1.03379313e-03, -9.50355747e-05,\n",
       "         6.45090046e-04,  1.60043371e-03,  1.36683970e-03,\n",
       "        -8.13194575e-04, -1.11918658e-03],\n",
       "       [ 2.12859116e-01, -1.00023222e-01,  8.22592874e-02,\n",
       "        -2.52458047e-02, -4.62904075e-02,  1.06445792e-02,\n",
       "         1.04509722e-03, -3.85455271e-03,  2.19998632e-03,\n",
       "        -5.58429125e-03,  2.34439962e-03, -1.82777965e-03,\n",
       "        -2.30868160e-02, -6.61814464e-03, -5.08304067e-03,\n",
       "        -3.49000869e-04, -4.48559137e-03, -1.51052309e-02,\n",
       "        -8.65728569e-03, -6.98085122e-03, -1.12737638e-02,\n",
       "        -1.33169857e-02, -9.90131623e-04,  2.98261024e-03,\n",
       "         4.35647992e-05, -3.32825369e-03, -3.69563166e-03,\n",
       "         1.77590187e-03, -4.49248266e-03, -2.37708920e-03,\n",
       "        -2.15292446e-03, -5.80326657e-03,  5.46252047e-03,\n",
       "        -5.24171423e-03,  5.07461874e-03,  2.63752571e-03,\n",
       "        -3.30175931e-03,  6.62949517e-03,  6.74163805e-03,\n",
       "        -1.61137887e-03, -3.37136288e-03, -6.32043161e-03,\n",
       "         6.91504452e-03,  8.64004495e-04,  2.19167983e-04,\n",
       "         1.99130296e-03, -2.70653243e-03, -2.22173876e-03,\n",
       "        -3.00941419e-03, -4.70806731e-04,  4.63426290e-03,\n",
       "        -1.94057973e-03,  6.27994236e-04, -3.67092771e-04,\n",
       "        -2.75277442e-03, -7.59452015e-04, -5.31130806e-03,\n",
       "         6.33617396e-03,  1.03651709e-03,  2.41469615e-03,\n",
       "        -8.60579823e-04, -2.52079331e-03, -2.66201730e-03,\n",
       "        -5.90068532e-04, -5.44939949e-03,  5.64600912e-03,\n",
       "        -2.51089960e-05,  1.96212609e-03, -1.42420400e-03,\n",
       "        -2.56098076e-03,  8.55254809e-04, -3.07656579e-03,\n",
       "         5.62082030e-04, -2.10161614e-03, -3.42510415e-03,\n",
       "        -3.87997365e-03,  2.75966439e-03,  1.66531444e-03,\n",
       "        -1.70821226e-03,  4.17858095e-04, -1.85235036e-03,\n",
       "        -3.67024845e-03, -7.06901491e-03,  1.63993680e-03,\n",
       "         3.73410764e-03,  1.48631432e-03,  3.71202974e-04,\n",
       "         3.97735981e-03,  4.57282403e-03,  5.58238229e-03,\n",
       "        -3.33546578e-05, -2.70407641e-03,  3.22821142e-03,\n",
       "        -2.17812272e-03,  2.71343630e-03, -1.56398347e-04,\n",
       "        -2.69463260e-03, -2.32526246e-03, -2.16713781e-03,\n",
       "         1.32960847e-03,  3.59474852e-06,  2.21172509e-03,\n",
       "         1.49755434e-03,  4.67763123e-03, -2.17175004e-03,\n",
       "        -8.01352866e-04,  2.02722662e-03,  6.61642809e-04,\n",
       "         3.55392609e-03,  2.19110675e-03,  3.27225371e-03,\n",
       "        -3.79089887e-04,  3.01599845e-03, -1.10589621e-03,\n",
       "        -2.43242924e-03,  1.18723851e-04, -4.79532498e-04,\n",
       "         2.65982795e-03,  1.74389853e-05,  1.56964112e-03,\n",
       "        -7.04069247e-04, -2.88957395e-03,  1.13182446e-03,\n",
       "         6.53550948e-05, -3.41044884e-04, -9.17031346e-04,\n",
       "        -8.75990371e-04, -9.21246512e-04,  2.64715065e-03,\n",
       "         2.39439521e-03, -3.36632097e-03,  4.09582217e-03,\n",
       "         2.13032685e-03, -6.29860497e-04,  1.50392915e-03,\n",
       "        -2.03148588e-03,  8.49920963e-04,  4.57982870e-03,\n",
       "         7.17817232e-05,  2.24827546e-03, -1.85947044e-03,\n",
       "         2.50814552e-03,  3.15912674e-03, -1.03143647e-03,\n",
       "         2.49604844e-04, -2.52562937e-03, -1.45302043e-04,\n",
       "        -3.21524131e-03,  1.40173208e-03,  1.60420949e-03,\n",
       "         1.66453458e-03,  1.02478912e-03,  3.57424897e-04,\n",
       "         3.70158774e-03, -7.06716239e-04, -1.18587357e-03,\n",
       "         2.15615802e-03, -2.93433756e-03,  5.26917719e-04,\n",
       "        -4.55432940e-03,  2.10391626e-03,  2.46844589e-03,\n",
       "        -1.54580158e-03,  1.19561194e-03,  2.73382297e-03,\n",
       "        -5.29736480e-04,  1.32432914e-03,  1.18019729e-04,\n",
       "        -1.62046090e-04,  1.32771530e-03,  1.81332057e-03,\n",
       "        -4.19545677e-04, -1.52456339e-03, -3.46314651e-03,\n",
       "         1.06670054e-03, -9.01994397e-04,  3.85158344e-03,\n",
       "        -2.98159676e-04,  7.74480664e-04, -2.07025645e-03,\n",
       "        -8.41069031e-04,  1.38803067e-03, -2.23592987e-04,\n",
       "        -5.90021615e-04, -1.94725275e-03, -2.06254970e-03,\n",
       "         7.77530638e-04, -2.05778929e-03,  5.50573805e-04,\n",
       "         2.21875291e-03, -8.09238692e-04, -4.57852961e-04,\n",
       "        -1.39920632e-03, -1.87119384e-04,  4.50007666e-04,\n",
       "        -2.20078844e-03, -2.97015793e-03, -1.67966563e-03,\n",
       "         1.41423076e-03,  3.16409791e-04]])"
      ]
     },
     "execution_count": 23,
     "metadata": {},
     "output_type": "execute_result"
    }
   ],
   "source": [
    "km = KMeans(n_clusters=3, init='k-means++', max_iter=100, n_init=1)\n",
    "\n",
    "# Scikit learn provides MiniBatchKMeans to run k-means in batch mode suitable for a very large corpus\n",
    "# km = MiniBatchKMeans(n_clusters=5, init='k-means++', n_init=1, init_size=1000, batch_size=1000)\n",
    "\n",
    "print(\"Clustering sparse data with %s\" % km)\n",
    "km.fit(X)\n",
    "km.cluster_centers_"
   ]
  },
  {
   "cell_type": "code",
   "execution_count": 24,
   "id": "6a06bc83",
   "metadata": {},
   "outputs": [
    {
     "name": "stdout",
     "output_type": "stream",
     "text": [
      "Top terms per cluster:\n",
      "Cluster 0: edu graphics image university thanks lines subject 3d program organization\n",
      "Cluster 1: edu god keith people com writes atheists don religion think\n",
      "Cluster 2: com bike edu dod writes ca article organization subject lines\n"
     ]
    }
   ],
   "source": [
    "print(\"Top terms per cluster:\")\n",
    "original_space_centroids = svd.inverse_transform(km.cluster_centers_)\n",
    "order_centroids = original_space_centroids.argsort()[:, ::-1]\n",
    "        \n",
    "terms = vectorizer.get_feature_names_out()\n",
    "for i in range(3):\n",
    "    print(\"Cluster %d:\" % i, end='')\n",
    "    for ind in order_centroids[i, :10]:\n",
    "        print(' %s' % terms[ind], end='')\n",
    "    print()"
   ]
  },
  {
   "cell_type": "markdown",
   "id": "4abe6f8a",
   "metadata": {},
   "source": [
    "**Hierarchical clustering**"
   ]
  },
  {
   "cell_type": "code",
   "execution_count": 25,
   "id": "aa57f07f",
   "metadata": {},
   "outputs": [],
   "source": [
    "from sklearn.metrics.pairwise import cosine_similarity"
   ]
  },
  {
   "cell_type": "code",
   "execution_count": 26,
   "id": "9896e5ab",
   "metadata": {},
   "outputs": [],
   "source": [
    "dist = 1 - cosine_similarity(X)"
   ]
  },
  {
   "cell_type": "code",
   "execution_count": 28,
   "id": "3e47e042",
   "metadata": {},
   "outputs": [
    {
     "data": {
      "image/png": "[encoded data removed]",
      "text/plain": [
       "<Figure size 800x800 with 1 Axes>"
      ]
     },
     "metadata": {},
     "output_type": "display_data"
    }
   ],
   "source": [
    "from scipy.cluster.hierarchy import ward, dendrogram\n",
    "import matplotlib.pyplot as plt\n",
    "\n",
    "linkage_matrix = ward(dist) #define the linkage_matrix using ward clustering pre-computed distances\n",
    "\n",
    "fig, ax = plt.subplots(figsize=(8, 8)) # set size\n",
    "ax = dendrogram(linkage_matrix, orientation=\"right\")\n",
    "\n",
    "plt.tick_params(axis= 'x', which='both', bottom='off', top='off', labelbottom='off')\n",
    "\n",
    "plt.tight_layout() #show plot with tight layout\n",
    "plt.show()"
   ]
  },
  {
   "cell_type": "code",
   "execution_count": null,
   "id": "bdeb2129",
   "metadata": {},
   "outputs": [],
   "source": []
  }
 ],
 "metadata": {
  "kernelspec": {
   "display_name": "Python 3 (ipykernel)",
   "language": "python",
   "name": "python3"
  },
  "language_info": {
   "codemirror_mode": {
    "name": "ipython",
    "version": 3
   },
   "file_extension": ".py",
   "mimetype": "text/x-python",
   "name": "python",
   "nbconvert_exporter": "python",
   "pygments_lexer": "ipython3",
   "version": "3.10.12"
  }
 },
 "nbformat": 4,
 "nbformat_minor": 5
}
