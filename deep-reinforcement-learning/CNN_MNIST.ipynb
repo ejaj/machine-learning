{
 "cells": [
  {
   "cell_type": "code",
   "execution_count": 42,
   "id": "cbbea071",
   "metadata": {},
   "outputs": [
    {
     "name": "stdout",
     "output_type": "stream",
     "text": [
      "Current Image Data Format: channels_last\n"
     ]
    }
   ],
   "source": [
    "import keras\n",
    "\n",
    "# Ensure to set the image data format appropriately\n",
    "K = keras.backend.backend()\n",
    "current_format = keras.backend.image_data_format()\n",
    "print(\"Current Image Data Format:\", current_format)\n",
    "\n",
    "if K == 'tensorflow':\n",
    "    keras.backend.set_image_data_format('channels_last')\n",
    "else:\n",
    "    keras.backend.set_image_data_format('channels_first')"
   ]
  },
  {
   "cell_type": "code",
   "execution_count": 43,
   "id": "bde9329f",
   "metadata": {},
   "outputs": [],
   "source": [
    "from matplotlib import pyplot as plt\n",
    "%matplotlib inline\n",
    "\n",
    "import numpy as np\n",
    "np.random.seed(2017)\n",
    "\n",
    "from keras.models import Sequential\n",
    "from keras.datasets import cifar10\n",
    "from keras.layers import Dense, Dropout, Activation, Convolution2D, MaxPooling2D, Flatten\n",
    "from keras.utils import to_categorical, model_to_dot\n",
    "from keras.preprocessing import sequence\n",
    "from keras.datasets import mnist\n",
    "from keras import backend as K\n",
    "from IPython.display import SVG, display\n",
    "from keras.utils import plot_model, model_to_dot"
   ]
  },
  {
   "cell_type": "code",
   "execution_count": 44,
   "id": "855fd769",
   "metadata": {},
   "outputs": [],
   "source": [
    "img_rows, img_cols = 28, 28\n",
    "nb_classes = 10\n",
    "\n",
    "nb_filters = 5 # the number of filters\n",
    "nb_pool = 2 # window size of pooling\n",
    "nb_conv = 3 # window or kernel size of filter\n",
    "nb_epoch = 5\n",
    "\n",
    "# Set the image data format\n",
    "if K.image_data_format() == 'channels_first':\n",
    "    input_shape = (1, img_rows, img_cols)\n",
    "else:\n",
    "    input_shape = (img_rows, img_cols, 1)\n",
    "\n",
    "# Load and preprocess the data\n",
    "(X_train, y_train), (X_test, y_test) = mnist.load_data()\n",
    "if K.image_data_format() == 'channels_first':\n",
    "    X_train = X_train.reshape(X_train.shape[0], 1, img_rows, img_cols)\n",
    "    X_test = X_test.reshape(X_test.shape[0], 1, img_rows, img_cols)\n",
    "else:\n",
    "    X_train = X_train.reshape(X_train.shape[0], img_rows, img_cols, 1)\n",
    "    X_test = X_test.reshape(X_test.shape[0], img_rows, img_cols, 1)\n",
    "\n",
    "X_train = X_train.astype('float32') / 255\n",
    "X_test = X_test.astype('float32') / 255"
   ]
  },
  {
   "cell_type": "code",
   "execution_count": 45,
   "id": "cc7ea15e",
   "metadata": {},
   "outputs": [],
   "source": [
    "# convert class vectors to binary class matrices\n",
    "Y_train = to_categorical(y_train, nb_classes)\n",
    "Y_test = to_categorical(y_test, nb_classes)"
   ]
  },
  {
   "cell_type": "code",
   "execution_count": 46,
   "id": "23420503",
   "metadata": {},
   "outputs": [],
   "source": [
    "# define two groups of layers: feature (convolutions) and classification (dense)\n",
    "feature_layers = [\n",
    "    Convolution2D(nb_filters, nb_conv, nb_conv, input_shape=input_shape),\n",
    "    Activation('relu'),\n",
    "    Convolution2D(nb_filters, nb_conv, nb_conv),\n",
    "    Activation('relu'),\n",
    "    MaxPooling2D(pool_size=(nb_pool, nb_pool)),\n",
    "    Dropout(0.25),\n",
    "    Flatten(),\n",
    "]\n",
    "classification_layers = [\n",
    "    Dense(128),\n",
    "    Activation('relu'),\n",
    "    Dropout(0.5),\n",
    "    Dense(nb_classes),\n",
    "    Activation('softmax')\n",
    "]"
   ]
  },
  {
   "cell_type": "code",
   "execution_count": 47,
   "id": "c5faaa07",
   "metadata": {},
   "outputs": [],
   "source": [
    "# create complete model\n",
    "model = Sequential(feature_layers + classification_layers)"
   ]
  },
  {
   "cell_type": "code",
   "execution_count": 48,
   "id": "c3ba6126",
   "metadata": {},
   "outputs": [
    {
     "data": {
      "image/svg+xml": [
       "<svg xmlns=\"http://www.w3.org/2000/svg\" xmlns:xlink=\"http://www.w3.org/1999/xlink\" width=\"468pt\" height=\"1401pt\" viewBox=\"0.00 0.00 351.00 1051.00\">\n",
       "<g id=\"graph0\" class=\"graph\" transform=\"scale(0.75 0.75) rotate(0) translate(4 1047)\">\n",
       "<title>G</title>\n",
       "<polygon fill=\"white\" stroke=\"transparent\" points=\"-4,4 -4,-1047 347,-1047 347,4 -4,4\"/>\n",
       "<!-- 140376944159296 -->\n",
       "<g id=\"node1\" class=\"node\">\n",
       "<title>140376944159296</title>\n",
       "<polygon fill=\"none\" stroke=\"black\" points=\"0,-996.5 0,-1042.5 343,-1042.5 343,-996.5 0,-996.5\"/>\n",
       "<text text-anchor=\"middle\" x=\"64\" y=\"-1027.3\" font-family=\"Times,serif\" font-size=\"14.00\">conv2d_8_input</text>\n",
       "<polyline fill=\"none\" stroke=\"black\" points=\"0,-1019.5 128,-1019.5 \"/>\n",
       "<text text-anchor=\"middle\" x=\"64\" y=\"-1004.3\" font-family=\"Times,serif\" font-size=\"14.00\">InputLayer</text>\n",
       "<polyline fill=\"none\" stroke=\"black\" points=\"128,-996.5 128,-1042.5 \"/>\n",
       "<text text-anchor=\"middle\" x=\"162\" y=\"-1027.3\" font-family=\"Times,serif\" font-size=\"14.00\">input:</text>\n",
       "<polyline fill=\"none\" stroke=\"black\" points=\"128,-1019.5 196,-1019.5 \"/>\n",
       "<text text-anchor=\"middle\" x=\"162\" y=\"-1004.3\" font-family=\"Times,serif\" font-size=\"14.00\">output:</text>\n",
       "<polyline fill=\"none\" stroke=\"black\" points=\"196,-996.5 196,-1042.5 \"/>\n",
       "<text text-anchor=\"middle\" x=\"269.5\" y=\"-1027.3\" font-family=\"Times,serif\" font-size=\"14.00\">[(None, 28, 28, 1)]</text>\n",
       "<polyline fill=\"none\" stroke=\"black\" points=\"196,-1019.5 343,-1019.5 \"/>\n",
       "<text text-anchor=\"middle\" x=\"269.5\" y=\"-1004.3\" font-family=\"Times,serif\" font-size=\"14.00\">[(None, 28, 28, 1)]</text>\n",
       "</g>\n",
       "<!-- 140374565664848 -->\n",
       "<g id=\"node2\" class=\"node\">\n",
       "<title>140374565664848</title>\n",
       "<polygon fill=\"none\" stroke=\"black\" points=\"27.5,-913.5 27.5,-959.5 315.5,-959.5 315.5,-913.5 27.5,-913.5\"/>\n",
       "<text text-anchor=\"middle\" x=\"69\" y=\"-944.3\" font-family=\"Times,serif\" font-size=\"14.00\">conv2d_8</text>\n",
       "<polyline fill=\"none\" stroke=\"black\" points=\"27.5,-936.5 110.5,-936.5 \"/>\n",
       "<text text-anchor=\"middle\" x=\"69\" y=\"-921.3\" font-family=\"Times,serif\" font-size=\"14.00\">Conv2D</text>\n",
       "<polyline fill=\"none\" stroke=\"black\" points=\"110.5,-913.5 110.5,-959.5 \"/>\n",
       "<text text-anchor=\"middle\" x=\"144.5\" y=\"-944.3\" font-family=\"Times,serif\" font-size=\"14.00\">input:</text>\n",
       "<polyline fill=\"none\" stroke=\"black\" points=\"110.5,-936.5 178.5,-936.5 \"/>\n",
       "<text text-anchor=\"middle\" x=\"144.5\" y=\"-921.3\" font-family=\"Times,serif\" font-size=\"14.00\">output:</text>\n",
       "<polyline fill=\"none\" stroke=\"black\" points=\"178.5,-913.5 178.5,-959.5 \"/>\n",
       "<text text-anchor=\"middle\" x=\"247\" y=\"-944.3\" font-family=\"Times,serif\" font-size=\"14.00\">(None, 28, 28, 1)</text>\n",
       "<polyline fill=\"none\" stroke=\"black\" points=\"178.5,-936.5 315.5,-936.5 \"/>\n",
       "<text text-anchor=\"middle\" x=\"247\" y=\"-921.3\" font-family=\"Times,serif\" font-size=\"14.00\">(None, 9, 9, 5)</text>\n",
       "</g>\n",
       "<!-- 140376944159296&#45;&gt;140374565664848 -->\n",
       "<g id=\"edge1\" class=\"edge\">\n",
       "<title>140376944159296-&gt;140374565664848</title>\n",
       "<path fill=\"none\" stroke=\"black\" d=\"M171.5,-996.37C171.5,-988.15 171.5,-978.66 171.5,-969.73\"/>\n",
       "<polygon fill=\"black\" stroke=\"black\" points=\"175,-969.61 171.5,-959.61 168,-969.61 175,-969.61\"/>\n",
       "</g>\n",
       "<!-- 140380060839424 -->\n",
       "<g id=\"node3\" class=\"node\">\n",
       "<title>140380060839424</title>\n",
       "<polygon fill=\"none\" stroke=\"black\" points=\"22,-830.5 22,-876.5 321,-876.5 321,-830.5 22,-830.5\"/>\n",
       "<text text-anchor=\"middle\" x=\"78\" y=\"-861.3\" font-family=\"Times,serif\" font-size=\"14.00\">activation_16</text>\n",
       "<polyline fill=\"none\" stroke=\"black\" points=\"22,-853.5 134,-853.5 \"/>\n",
       "<text text-anchor=\"middle\" x=\"78\" y=\"-838.3\" font-family=\"Times,serif\" font-size=\"14.00\">Activation</text>\n",
       "<polyline fill=\"none\" stroke=\"black\" points=\"134,-830.5 134,-876.5 \"/>\n",
       "<text text-anchor=\"middle\" x=\"168\" y=\"-861.3\" font-family=\"Times,serif\" font-size=\"14.00\">input:</text>\n",
       "<polyline fill=\"none\" stroke=\"black\" points=\"134,-853.5 202,-853.5 \"/>\n",
       "<text text-anchor=\"middle\" x=\"168\" y=\"-838.3\" font-family=\"Times,serif\" font-size=\"14.00\">output:</text>\n",
       "<polyline fill=\"none\" stroke=\"black\" points=\"202,-830.5 202,-876.5 \"/>\n",
       "<text text-anchor=\"middle\" x=\"261.5\" y=\"-861.3\" font-family=\"Times,serif\" font-size=\"14.00\">(None, 9, 9, 5)</text>\n",
       "<polyline fill=\"none\" stroke=\"black\" points=\"202,-853.5 321,-853.5 \"/>\n",
       "<text text-anchor=\"middle\" x=\"261.5\" y=\"-838.3\" font-family=\"Times,serif\" font-size=\"14.00\">(None, 9, 9, 5)</text>\n",
       "</g>\n",
       "<!-- 140374565664848&#45;&gt;140380060839424 -->\n",
       "<g id=\"edge2\" class=\"edge\">\n",
       "<title>140374565664848-&gt;140380060839424</title>\n",
       "<path fill=\"none\" stroke=\"black\" d=\"M171.5,-913.37C171.5,-905.15 171.5,-895.66 171.5,-886.73\"/>\n",
       "<polygon fill=\"black\" stroke=\"black\" points=\"175,-886.61 171.5,-876.61 168,-886.61 175,-886.61\"/>\n",
       "</g>\n",
       "<!-- 140374565662880 -->\n",
       "<g id=\"node4\" class=\"node\">\n",
       "<title>140374565662880</title>\n",
       "<polygon fill=\"none\" stroke=\"black\" points=\"36.5,-747.5 36.5,-793.5 306.5,-793.5 306.5,-747.5 36.5,-747.5\"/>\n",
       "<text text-anchor=\"middle\" x=\"78\" y=\"-778.3\" font-family=\"Times,serif\" font-size=\"14.00\">conv2d_9</text>\n",
       "<polyline fill=\"none\" stroke=\"black\" points=\"36.5,-770.5 119.5,-770.5 \"/>\n",
       "<text text-anchor=\"middle\" x=\"78\" y=\"-755.3\" font-family=\"Times,serif\" font-size=\"14.00\">Conv2D</text>\n",
       "<polyline fill=\"none\" stroke=\"black\" points=\"119.5,-747.5 119.5,-793.5 \"/>\n",
       "<text text-anchor=\"middle\" x=\"153.5\" y=\"-778.3\" font-family=\"Times,serif\" font-size=\"14.00\">input:</text>\n",
       "<polyline fill=\"none\" stroke=\"black\" points=\"119.5,-770.5 187.5,-770.5 \"/>\n",
       "<text text-anchor=\"middle\" x=\"153.5\" y=\"-755.3\" font-family=\"Times,serif\" font-size=\"14.00\">output:</text>\n",
       "<polyline fill=\"none\" stroke=\"black\" points=\"187.5,-747.5 187.5,-793.5 \"/>\n",
       "<text text-anchor=\"middle\" x=\"247\" y=\"-778.3\" font-family=\"Times,serif\" font-size=\"14.00\">(None, 9, 9, 5)</text>\n",
       "<polyline fill=\"none\" stroke=\"black\" points=\"187.5,-770.5 306.5,-770.5 \"/>\n",
       "<text text-anchor=\"middle\" x=\"247\" y=\"-755.3\" font-family=\"Times,serif\" font-size=\"14.00\">(None, 3, 3, 5)</text>\n",
       "</g>\n",
       "<!-- 140380060839424&#45;&gt;140374565662880 -->\n",
       "<g id=\"edge3\" class=\"edge\">\n",
       "<title>140380060839424-&gt;140374565662880</title>\n",
       "<path fill=\"none\" stroke=\"black\" d=\"M171.5,-830.37C171.5,-822.15 171.5,-812.66 171.5,-803.73\"/>\n",
       "<polygon fill=\"black\" stroke=\"black\" points=\"175,-803.61 171.5,-793.61 168,-803.61 175,-803.61\"/>\n",
       "</g>\n",
       "<!-- 140374565661392 -->\n",
       "<g id=\"node5\" class=\"node\">\n",
       "<title>140374565661392</title>\n",
       "<polygon fill=\"none\" stroke=\"black\" points=\"22,-664.5 22,-710.5 321,-710.5 321,-664.5 22,-664.5\"/>\n",
       "<text text-anchor=\"middle\" x=\"78\" y=\"-695.3\" font-family=\"Times,serif\" font-size=\"14.00\">activation_17</text>\n",
       "<polyline fill=\"none\" stroke=\"black\" points=\"22,-687.5 134,-687.5 \"/>\n",
       "<text text-anchor=\"middle\" x=\"78\" y=\"-672.3\" font-family=\"Times,serif\" font-size=\"14.00\">Activation</text>\n",
       "<polyline fill=\"none\" stroke=\"black\" points=\"134,-664.5 134,-710.5 \"/>\n",
       "<text text-anchor=\"middle\" x=\"168\" y=\"-695.3\" font-family=\"Times,serif\" font-size=\"14.00\">input:</text>\n",
       "<polyline fill=\"none\" stroke=\"black\" points=\"134,-687.5 202,-687.5 \"/>\n",
       "<text text-anchor=\"middle\" x=\"168\" y=\"-672.3\" font-family=\"Times,serif\" font-size=\"14.00\">output:</text>\n",
       "<polyline fill=\"none\" stroke=\"black\" points=\"202,-664.5 202,-710.5 \"/>\n",
       "<text text-anchor=\"middle\" x=\"261.5\" y=\"-695.3\" font-family=\"Times,serif\" font-size=\"14.00\">(None, 3, 3, 5)</text>\n",
       "<polyline fill=\"none\" stroke=\"black\" points=\"202,-687.5 321,-687.5 \"/>\n",
       "<text text-anchor=\"middle\" x=\"261.5\" y=\"-672.3\" font-family=\"Times,serif\" font-size=\"14.00\">(None, 3, 3, 5)</text>\n",
       "</g>\n",
       "<!-- 140374565662880&#45;&gt;140374565661392 -->\n",
       "<g id=\"edge4\" class=\"edge\">\n",
       "<title>140374565662880-&gt;140374565661392</title>\n",
       "<path fill=\"none\" stroke=\"black\" d=\"M171.5,-747.37C171.5,-739.15 171.5,-729.66 171.5,-720.73\"/>\n",
       "<polygon fill=\"black\" stroke=\"black\" points=\"175,-720.61 171.5,-710.61 168,-720.61 175,-720.61\"/>\n",
       "</g>\n",
       "<!-- 140374565666624 -->\n",
       "<g id=\"node6\" class=\"node\">\n",
       "<title>140374565666624</title>\n",
       "<polygon fill=\"none\" stroke=\"black\" points=\"8,-581.5 8,-627.5 335,-627.5 335,-581.5 8,-581.5\"/>\n",
       "<text text-anchor=\"middle\" x=\"78\" y=\"-612.3\" font-family=\"Times,serif\" font-size=\"14.00\">max_pooling2d_4</text>\n",
       "<polyline fill=\"none\" stroke=\"black\" points=\"8,-604.5 148,-604.5 \"/>\n",
       "<text text-anchor=\"middle\" x=\"78\" y=\"-589.3\" font-family=\"Times,serif\" font-size=\"14.00\">MaxPooling2D</text>\n",
       "<polyline fill=\"none\" stroke=\"black\" points=\"148,-581.5 148,-627.5 \"/>\n",
       "<text text-anchor=\"middle\" x=\"182\" y=\"-612.3\" font-family=\"Times,serif\" font-size=\"14.00\">input:</text>\n",
       "<polyline fill=\"none\" stroke=\"black\" points=\"148,-604.5 216,-604.5 \"/>\n",
       "<text text-anchor=\"middle\" x=\"182\" y=\"-589.3\" font-family=\"Times,serif\" font-size=\"14.00\">output:</text>\n",
       "<polyline fill=\"none\" stroke=\"black\" points=\"216,-581.5 216,-627.5 \"/>\n",
       "<text text-anchor=\"middle\" x=\"275.5\" y=\"-612.3\" font-family=\"Times,serif\" font-size=\"14.00\">(None, 3, 3, 5)</text>\n",
       "<polyline fill=\"none\" stroke=\"black\" points=\"216,-604.5 335,-604.5 \"/>\n",
       "<text text-anchor=\"middle\" x=\"275.5\" y=\"-589.3\" font-family=\"Times,serif\" font-size=\"14.00\">(None, 1, 1, 5)</text>\n",
       "</g>\n",
       "<!-- 140374565661392&#45;&gt;140374565666624 -->\n",
       "<g id=\"edge5\" class=\"edge\">\n",
       "<title>140374565661392-&gt;140374565666624</title>\n",
       "<path fill=\"none\" stroke=\"black\" d=\"M171.5,-664.37C171.5,-656.15 171.5,-646.66 171.5,-637.73\"/>\n",
       "<polygon fill=\"black\" stroke=\"black\" points=\"175,-637.61 171.5,-627.61 168,-637.61 175,-637.61\"/>\n",
       "</g>\n",
       "<!-- 140374565663840 -->\n",
       "<g id=\"node7\" class=\"node\">\n",
       "<title>140374565663840</title>\n",
       "<polygon fill=\"none\" stroke=\"black\" points=\"33.5,-498.5 33.5,-544.5 309.5,-544.5 309.5,-498.5 33.5,-498.5\"/>\n",
       "<text text-anchor=\"middle\" x=\"78\" y=\"-529.3\" font-family=\"Times,serif\" font-size=\"14.00\">dropout_8</text>\n",
       "<polyline fill=\"none\" stroke=\"black\" points=\"33.5,-521.5 122.5,-521.5 \"/>\n",
       "<text text-anchor=\"middle\" x=\"78\" y=\"-506.3\" font-family=\"Times,serif\" font-size=\"14.00\">Dropout</text>\n",
       "<polyline fill=\"none\" stroke=\"black\" points=\"122.5,-498.5 122.5,-544.5 \"/>\n",
       "<text text-anchor=\"middle\" x=\"156.5\" y=\"-529.3\" font-family=\"Times,serif\" font-size=\"14.00\">input:</text>\n",
       "<polyline fill=\"none\" stroke=\"black\" points=\"122.5,-521.5 190.5,-521.5 \"/>\n",
       "<text text-anchor=\"middle\" x=\"156.5\" y=\"-506.3\" font-family=\"Times,serif\" font-size=\"14.00\">output:</text>\n",
       "<polyline fill=\"none\" stroke=\"black\" points=\"190.5,-498.5 190.5,-544.5 \"/>\n",
       "<text text-anchor=\"middle\" x=\"250\" y=\"-529.3\" font-family=\"Times,serif\" font-size=\"14.00\">(None, 1, 1, 5)</text>\n",
       "<polyline fill=\"none\" stroke=\"black\" points=\"190.5,-521.5 309.5,-521.5 \"/>\n",
       "<text text-anchor=\"middle\" x=\"250\" y=\"-506.3\" font-family=\"Times,serif\" font-size=\"14.00\">(None, 1, 1, 5)</text>\n",
       "</g>\n",
       "<!-- 140374565666624&#45;&gt;140374565663840 -->\n",
       "<g id=\"edge6\" class=\"edge\">\n",
       "<title>140374565666624-&gt;140374565663840</title>\n",
       "<path fill=\"none\" stroke=\"black\" d=\"M171.5,-581.37C171.5,-573.15 171.5,-563.66 171.5,-554.73\"/>\n",
       "<polygon fill=\"black\" stroke=\"black\" points=\"175,-554.61 171.5,-544.61 168,-554.61 175,-554.61\"/>\n",
       "</g>\n",
       "<!-- 140374565655248 -->\n",
       "<g id=\"node8\" class=\"node\">\n",
       "<title>140374565655248</title>\n",
       "<polygon fill=\"none\" stroke=\"black\" points=\"38.5,-415.5 38.5,-461.5 304.5,-461.5 304.5,-415.5 38.5,-415.5\"/>\n",
       "<text text-anchor=\"middle\" x=\"78\" y=\"-446.3\" font-family=\"Times,serif\" font-size=\"14.00\">flatten_4</text>\n",
       "<polyline fill=\"none\" stroke=\"black\" points=\"38.5,-438.5 117.5,-438.5 \"/>\n",
       "<text text-anchor=\"middle\" x=\"78\" y=\"-423.3\" font-family=\"Times,serif\" font-size=\"14.00\">Flatten</text>\n",
       "<polyline fill=\"none\" stroke=\"black\" points=\"117.5,-415.5 117.5,-461.5 \"/>\n",
       "<text text-anchor=\"middle\" x=\"151.5\" y=\"-446.3\" font-family=\"Times,serif\" font-size=\"14.00\">input:</text>\n",
       "<polyline fill=\"none\" stroke=\"black\" points=\"117.5,-438.5 185.5,-438.5 \"/>\n",
       "<text text-anchor=\"middle\" x=\"151.5\" y=\"-423.3\" font-family=\"Times,serif\" font-size=\"14.00\">output:</text>\n",
       "<polyline fill=\"none\" stroke=\"black\" points=\"185.5,-415.5 185.5,-461.5 \"/>\n",
       "<text text-anchor=\"middle\" x=\"245\" y=\"-446.3\" font-family=\"Times,serif\" font-size=\"14.00\">(None, 1, 1, 5)</text>\n",
       "<polyline fill=\"none\" stroke=\"black\" points=\"185.5,-438.5 304.5,-438.5 \"/>\n",
       "<text text-anchor=\"middle\" x=\"245\" y=\"-423.3\" font-family=\"Times,serif\" font-size=\"14.00\">(None, 5)</text>\n",
       "</g>\n",
       "<!-- 140374565663840&#45;&gt;140374565655248 -->\n",
       "<g id=\"edge7\" class=\"edge\">\n",
       "<title>140374565663840-&gt;140374565655248</title>\n",
       "<path fill=\"none\" stroke=\"black\" d=\"M171.5,-498.37C171.5,-490.15 171.5,-480.66 171.5,-471.73\"/>\n",
       "<polygon fill=\"black\" stroke=\"black\" points=\"175,-471.61 171.5,-461.61 168,-471.61 175,-471.61\"/>\n",
       "</g>\n",
       "<!-- 140374565658224 -->\n",
       "<g id=\"node9\" class=\"node\">\n",
       "<title>140374565658224</title>\n",
       "<polygon fill=\"none\" stroke=\"black\" points=\"50,-332.5 50,-378.5 293,-378.5 293,-332.5 50,-332.5\"/>\n",
       "<text text-anchor=\"middle\" x=\"87\" y=\"-363.3\" font-family=\"Times,serif\" font-size=\"14.00\">dense_8</text>\n",
       "<polyline fill=\"none\" stroke=\"black\" points=\"50,-355.5 124,-355.5 \"/>\n",
       "<text text-anchor=\"middle\" x=\"87\" y=\"-340.3\" font-family=\"Times,serif\" font-size=\"14.00\">Dense</text>\n",
       "<polyline fill=\"none\" stroke=\"black\" points=\"124,-332.5 124,-378.5 \"/>\n",
       "<text text-anchor=\"middle\" x=\"158\" y=\"-363.3\" font-family=\"Times,serif\" font-size=\"14.00\">input:</text>\n",
       "<polyline fill=\"none\" stroke=\"black\" points=\"124,-355.5 192,-355.5 \"/>\n",
       "<text text-anchor=\"middle\" x=\"158\" y=\"-340.3\" font-family=\"Times,serif\" font-size=\"14.00\">output:</text>\n",
       "<polyline fill=\"none\" stroke=\"black\" points=\"192,-332.5 192,-378.5 \"/>\n",
       "<text text-anchor=\"middle\" x=\"242.5\" y=\"-363.3\" font-family=\"Times,serif\" font-size=\"14.00\">(None, 5)</text>\n",
       "<polyline fill=\"none\" stroke=\"black\" points=\"192,-355.5 293,-355.5 \"/>\n",
       "<text text-anchor=\"middle\" x=\"242.5\" y=\"-340.3\" font-family=\"Times,serif\" font-size=\"14.00\">(None, 128)</text>\n",
       "</g>\n",
       "<!-- 140374565655248&#45;&gt;140374565658224 -->\n",
       "<g id=\"edge8\" class=\"edge\">\n",
       "<title>140374565655248-&gt;140374565658224</title>\n",
       "<path fill=\"none\" stroke=\"black\" d=\"M171.5,-415.37C171.5,-407.15 171.5,-397.66 171.5,-388.73\"/>\n",
       "<polygon fill=\"black\" stroke=\"black\" points=\"175,-388.61 171.5,-378.61 168,-388.61 175,-388.61\"/>\n",
       "</g>\n",
       "<!-- 140374565659664 -->\n",
       "<g id=\"node10\" class=\"node\">\n",
       "<title>140374565659664</title>\n",
       "<polygon fill=\"none\" stroke=\"black\" points=\"31,-249.5 31,-295.5 312,-295.5 312,-249.5 31,-249.5\"/>\n",
       "<text text-anchor=\"middle\" x=\"87\" y=\"-280.3\" font-family=\"Times,serif\" font-size=\"14.00\">activation_18</text>\n",
       "<polyline fill=\"none\" stroke=\"black\" points=\"31,-272.5 143,-272.5 \"/>\n",
       "<text text-anchor=\"middle\" x=\"87\" y=\"-257.3\" font-family=\"Times,serif\" font-size=\"14.00\">Activation</text>\n",
       "<polyline fill=\"none\" stroke=\"black\" points=\"143,-249.5 143,-295.5 \"/>\n",
       "<text text-anchor=\"middle\" x=\"177\" y=\"-280.3\" font-family=\"Times,serif\" font-size=\"14.00\">input:</text>\n",
       "<polyline fill=\"none\" stroke=\"black\" points=\"143,-272.5 211,-272.5 \"/>\n",
       "<text text-anchor=\"middle\" x=\"177\" y=\"-257.3\" font-family=\"Times,serif\" font-size=\"14.00\">output:</text>\n",
       "<polyline fill=\"none\" stroke=\"black\" points=\"211,-249.5 211,-295.5 \"/>\n",
       "<text text-anchor=\"middle\" x=\"261.5\" y=\"-280.3\" font-family=\"Times,serif\" font-size=\"14.00\">(None, 128)</text>\n",
       "<polyline fill=\"none\" stroke=\"black\" points=\"211,-272.5 312,-272.5 \"/>\n",
       "<text text-anchor=\"middle\" x=\"261.5\" y=\"-257.3\" font-family=\"Times,serif\" font-size=\"14.00\">(None, 128)</text>\n",
       "</g>\n",
       "<!-- 140374565658224&#45;&gt;140374565659664 -->\n",
       "<g id=\"edge9\" class=\"edge\">\n",
       "<title>140374565658224-&gt;140374565659664</title>\n",
       "<path fill=\"none\" stroke=\"black\" d=\"M171.5,-332.37C171.5,-324.15 171.5,-314.66 171.5,-305.73\"/>\n",
       "<polygon fill=\"black\" stroke=\"black\" points=\"175,-305.61 171.5,-295.61 168,-305.61 175,-305.61\"/>\n",
       "</g>\n",
       "<!-- 140374565659088 -->\n",
       "<g id=\"node11\" class=\"node\">\n",
       "<title>140374565659088</title>\n",
       "<polygon fill=\"none\" stroke=\"black\" points=\"42.5,-166.5 42.5,-212.5 300.5,-212.5 300.5,-166.5 42.5,-166.5\"/>\n",
       "<text text-anchor=\"middle\" x=\"87\" y=\"-197.3\" font-family=\"Times,serif\" font-size=\"14.00\">dropout_9</text>\n",
       "<polyline fill=\"none\" stroke=\"black\" points=\"42.5,-189.5 131.5,-189.5 \"/>\n",
       "<text text-anchor=\"middle\" x=\"87\" y=\"-174.3\" font-family=\"Times,serif\" font-size=\"14.00\">Dropout</text>\n",
       "<polyline fill=\"none\" stroke=\"black\" points=\"131.5,-166.5 131.5,-212.5 \"/>\n",
       "<text text-anchor=\"middle\" x=\"165.5\" y=\"-197.3\" font-family=\"Times,serif\" font-size=\"14.00\">input:</text>\n",
       "<polyline fill=\"none\" stroke=\"black\" points=\"131.5,-189.5 199.5,-189.5 \"/>\n",
       "<text text-anchor=\"middle\" x=\"165.5\" y=\"-174.3\" font-family=\"Times,serif\" font-size=\"14.00\">output:</text>\n",
       "<polyline fill=\"none\" stroke=\"black\" points=\"199.5,-166.5 199.5,-212.5 \"/>\n",
       "<text text-anchor=\"middle\" x=\"250\" y=\"-197.3\" font-family=\"Times,serif\" font-size=\"14.00\">(None, 128)</text>\n",
       "<polyline fill=\"none\" stroke=\"black\" points=\"199.5,-189.5 300.5,-189.5 \"/>\n",
       "<text text-anchor=\"middle\" x=\"250\" y=\"-174.3\" font-family=\"Times,serif\" font-size=\"14.00\">(None, 128)</text>\n",
       "</g>\n",
       "<!-- 140374565659664&#45;&gt;140374565659088 -->\n",
       "<g id=\"edge10\" class=\"edge\">\n",
       "<title>140374565659664-&gt;140374565659088</title>\n",
       "<path fill=\"none\" stroke=\"black\" d=\"M171.5,-249.37C171.5,-241.15 171.5,-231.66 171.5,-222.73\"/>\n",
       "<polygon fill=\"black\" stroke=\"black\" points=\"175,-222.61 171.5,-212.61 168,-222.61 175,-222.61\"/>\n",
       "</g>\n",
       "<!-- 140374565660048 -->\n",
       "<g id=\"node12\" class=\"node\">\n",
       "<title>140374565660048</title>\n",
       "<polygon fill=\"none\" stroke=\"black\" points=\"50,-83.5 50,-129.5 293,-129.5 293,-83.5 50,-83.5\"/>\n",
       "<text text-anchor=\"middle\" x=\"87\" y=\"-114.3\" font-family=\"Times,serif\" font-size=\"14.00\">dense_9</text>\n",
       "<polyline fill=\"none\" stroke=\"black\" points=\"50,-106.5 124,-106.5 \"/>\n",
       "<text text-anchor=\"middle\" x=\"87\" y=\"-91.3\" font-family=\"Times,serif\" font-size=\"14.00\">Dense</text>\n",
       "<polyline fill=\"none\" stroke=\"black\" points=\"124,-83.5 124,-129.5 \"/>\n",
       "<text text-anchor=\"middle\" x=\"158\" y=\"-114.3\" font-family=\"Times,serif\" font-size=\"14.00\">input:</text>\n",
       "<polyline fill=\"none\" stroke=\"black\" points=\"124,-106.5 192,-106.5 \"/>\n",
       "<text text-anchor=\"middle\" x=\"158\" y=\"-91.3\" font-family=\"Times,serif\" font-size=\"14.00\">output:</text>\n",
       "<polyline fill=\"none\" stroke=\"black\" points=\"192,-83.5 192,-129.5 \"/>\n",
       "<text text-anchor=\"middle\" x=\"242.5\" y=\"-114.3\" font-family=\"Times,serif\" font-size=\"14.00\">(None, 128)</text>\n",
       "<polyline fill=\"none\" stroke=\"black\" points=\"192,-106.5 293,-106.5 \"/>\n",
       "<text text-anchor=\"middle\" x=\"242.5\" y=\"-91.3\" font-family=\"Times,serif\" font-size=\"14.00\">(None, 10)</text>\n",
       "</g>\n",
       "<!-- 140374565659088&#45;&gt;140374565660048 -->\n",
       "<g id=\"edge11\" class=\"edge\">\n",
       "<title>140374565659088-&gt;140374565660048</title>\n",
       "<path fill=\"none\" stroke=\"black\" d=\"M171.5,-166.37C171.5,-158.15 171.5,-148.66 171.5,-139.73\"/>\n",
       "<polygon fill=\"black\" stroke=\"black\" points=\"175,-139.61 171.5,-129.61 168,-139.61 175,-139.61\"/>\n",
       "</g>\n",
       "<!-- 140374565656544 -->\n",
       "<g id=\"node13\" class=\"node\">\n",
       "<title>140374565656544</title>\n",
       "<polygon fill=\"none\" stroke=\"black\" points=\"35.5,-0.5 35.5,-46.5 307.5,-46.5 307.5,-0.5 35.5,-0.5\"/>\n",
       "<text text-anchor=\"middle\" x=\"91.5\" y=\"-31.3\" font-family=\"Times,serif\" font-size=\"14.00\">activation_19</text>\n",
       "<polyline fill=\"none\" stroke=\"black\" points=\"35.5,-23.5 147.5,-23.5 \"/>\n",
       "<text text-anchor=\"middle\" x=\"91.5\" y=\"-8.3\" font-family=\"Times,serif\" font-size=\"14.00\">Activation</text>\n",
       "<polyline fill=\"none\" stroke=\"black\" points=\"147.5,-0.5 147.5,-46.5 \"/>\n",
       "<text text-anchor=\"middle\" x=\"181.5\" y=\"-31.3\" font-family=\"Times,serif\" font-size=\"14.00\">input:</text>\n",
       "<polyline fill=\"none\" stroke=\"black\" points=\"147.5,-23.5 215.5,-23.5 \"/>\n",
       "<text text-anchor=\"middle\" x=\"181.5\" y=\"-8.3\" font-family=\"Times,serif\" font-size=\"14.00\">output:</text>\n",
       "<polyline fill=\"none\" stroke=\"black\" points=\"215.5,-0.5 215.5,-46.5 \"/>\n",
       "<text text-anchor=\"middle\" x=\"261.5\" y=\"-31.3\" font-family=\"Times,serif\" font-size=\"14.00\">(None, 10)</text>\n",
       "<polyline fill=\"none\" stroke=\"black\" points=\"215.5,-23.5 307.5,-23.5 \"/>\n",
       "<text text-anchor=\"middle\" x=\"261.5\" y=\"-8.3\" font-family=\"Times,serif\" font-size=\"14.00\">(None, 10)</text>\n",
       "</g>\n",
       "<!-- 140374565660048&#45;&gt;140374565656544 -->\n",
       "<g id=\"edge12\" class=\"edge\">\n",
       "<title>140374565660048-&gt;140374565656544</title>\n",
       "<path fill=\"none\" stroke=\"black\" d=\"M171.5,-83.37C171.5,-75.15 171.5,-65.66 171.5,-56.73\"/>\n",
       "<polygon fill=\"black\" stroke=\"black\" points=\"175,-56.61 171.5,-46.61 168,-56.61 175,-56.61\"/>\n",
       "</g>\n",
       "</g>\n",
       "</svg>"
      ],
      "text/plain": [
       "<IPython.core.display.SVG object>"
      ]
     },
     "execution_count": 48,
     "metadata": {},
     "output_type": "execute_result"
    }
   ],
   "source": [
    "model.compile(loss='categorical_crossentropy', optimizer=\"adadelta\", metrics=['accuracy'])\n",
    "SVG(model_to_dot(model, show_shapes=True).create(prog='dot', format='svg'))"
   ]
  },
  {
   "cell_type": "code",
   "execution_count": 49,
   "id": "00e66a93",
   "metadata": {},
   "outputs": [
    {
     "name": "stdout",
     "output_type": "stream",
     "text": [
      "Model: \"sequential_4\"\n",
      "_________________________________________________________________\n",
      " Layer (type)                Output Shape              Param #   \n",
      "=================================================================\n",
      " conv2d_8 (Conv2D)           (None, 9, 9, 5)           50        \n",
      "                                                                 \n",
      " activation_16 (Activation)  (None, 9, 9, 5)           0         \n",
      "                                                                 \n",
      " conv2d_9 (Conv2D)           (None, 3, 3, 5)           230       \n",
      "                                                                 \n",
      " activation_17 (Activation)  (None, 3, 3, 5)           0         \n",
      "                                                                 \n",
      " max_pooling2d_4 (MaxPoolin  (None, 1, 1, 5)           0         \n",
      " g2D)                                                            \n",
      "                                                                 \n",
      " dropout_8 (Dropout)         (None, 1, 1, 5)           0         \n",
      "                                                                 \n",
      " flatten_4 (Flatten)         (None, 5)                 0         \n",
      "                                                                 \n",
      " dense_8 (Dense)             (None, 128)               768       \n",
      "                                                                 \n",
      " activation_18 (Activation)  (None, 128)               0         \n",
      "                                                                 \n",
      " dropout_9 (Dropout)         (None, 128)               0         \n",
      "                                                                 \n",
      " dense_9 (Dense)             (None, 10)                1290      \n",
      "                                                                 \n",
      " activation_19 (Activation)  (None, 10)                0         \n",
      "                                                                 \n",
      "=================================================================\n",
      "Total params: 2338 (9.13 KB)\n",
      "Trainable params: 2338 (9.13 KB)\n",
      "Non-trainable params: 0 (0.00 Byte)\n",
      "_________________________________________________________________\n",
      "None\n"
     ]
    }
   ],
   "source": [
    "print(model.summary())"
   ]
  },
  {
   "cell_type": "code",
   "execution_count": 50,
   "id": "4cf0ba8b",
   "metadata": {},
   "outputs": [
    {
     "name": "stdout",
     "output_type": "stream",
     "text": [
      "Epoch 1/5\n",
      "188/188 - 1s - loss: 2.3078 - accuracy: 0.0998 - val_loss: 2.3055 - val_accuracy: 0.1168 - 1s/epoch - 7ms/step\n",
      "Epoch 2/5\n",
      "188/188 - 1s - loss: 2.3073 - accuracy: 0.1009 - val_loss: 2.3052 - val_accuracy: 0.1173 - 923ms/epoch - 5ms/step\n",
      "Epoch 3/5\n",
      "188/188 - 1s - loss: 2.3075 - accuracy: 0.0999 - val_loss: 2.3050 - val_accuracy: 0.1180 - 907ms/epoch - 5ms/step\n",
      "Epoch 4/5\n",
      "188/188 - 1s - loss: 2.3072 - accuracy: 0.0994 - val_loss: 2.3047 - val_accuracy: 0.1187 - 866ms/epoch - 5ms/step\n",
      "Epoch 5/5\n",
      "188/188 - 1s - loss: 2.3066 - accuracy: 0.1005 - val_loss: 2.3045 - val_accuracy: 0.1193 - 735ms/epoch - 4ms/step\n"
     ]
    },
    {
     "data": {
      "text/plain": [
       "<keras.src.callbacks.History at 0x7fac0c0bacb0>"
      ]
     },
     "execution_count": 50,
     "metadata": {},
     "output_type": "execute_result"
    }
   ],
   "source": [
    "model.fit(X_train, Y_train, epochs=nb_epoch, batch_size=256, verbose=2,  validation_split=0.2)"
   ]
  },
  {
   "cell_type": "markdown",
   "id": "800b6105",
   "metadata": {},
   "source": [
    "**Visualization of layers**"
   ]
  },
  {
   "cell_type": "code",
   "execution_count": 57,
   "id": "548920ca",
   "metadata": {},
   "outputs": [],
   "source": [
    "# visualization\n",
    "def draw(data, row, col, n):\n",
    "    plt.subplot(row, col, n)    \n",
    "    plt.imshow(data, cmap=plt.cm.gray_r)\n",
    "    plt.axis('off')"
   ]
  },
  {
   "cell_type": "markdown",
   "id": "c83b6004",
   "metadata": {},
   "source": [
    "**Input layer (original image)**"
   ]
  },
  {
   "cell_type": "code",
   "execution_count": 58,
   "id": "437cebf9",
   "metadata": {},
   "outputs": [
    {
     "data": {
      "image/png": "[encoded data removed]",
      "text/plain": [
       "<Figure size 2000x2000 with 10 Axes>"
      ]
     },
     "metadata": {},
     "output_type": "display_data"
    }
   ],
   "source": [
    "show_size = 10\n",
    "plt.figure(figsize=(20,20))\n",
    "\n",
    "for i in range(show_size):\n",
    "    draw(X_train[i].reshape(28,28), 1, show_size, i+1)\n",
    "plt.show()"
   ]
  },
  {
   "cell_type": "markdown",
   "id": "39e530af",
   "metadata": {},
   "source": [
    "***First layer with 5 filters***"
   ]
  },
  {
   "cell_type": "code",
   "execution_count": 60,
   "id": "71a47ab8",
   "metadata": {},
   "outputs": [
    {
     "data": {
      "image/png": "[encoded data removed]",
      "text/plain": [
       "<Figure size 2000x2000 with 50 Axes>"
      ]
     },
     "metadata": {},
     "output_type": "display_data"
    }
   ],
   "source": [
    "plt.figure(figsize=(20, 20))\n",
    "\n",
    "# Loop through each image\n",
    "for img_index in range(show_size):\n",
    "    # Loop through each filter\n",
    "    for filter_index in range(nb_filters):\n",
    "        # Calculate the position of the subplot\n",
    "        pos = img_index * nb_filters + filter_index + 1  # '+1' because subplot indexing starts at 1\n",
    "\n",
    "        plt.subplot(show_size, nb_filters, pos)\n",
    "        plt.imshow(first_layer[img_index, :, :, filter_index], cmap='gray')\n",
    "        plt.axis('off')\n",
    "\n",
    "plt.tight_layout()\n",
    "plt.show()"
   ]
  },
  {
   "cell_type": "markdown",
   "id": "4134f77d",
   "metadata": {},
   "source": [
    "***Second layer with 5 filters***"
   ]
  },
  {
   "cell_type": "code",
   "execution_count": 61,
   "id": "a06f7da8",
   "metadata": {},
   "outputs": [
    {
     "name": "stdout",
     "output_type": "stream",
     "text": [
      "second layer shape:  (10, 3, 3, 5)\n"
     ]
    },
    {
     "data": {
      "image/png": "[encoded data removed]",
      "text/plain": [
       "<Figure size 2000x2000 with 30 Axes>"
      ]
     },
     "metadata": {},
     "output_type": "display_data"
    }
   ],
   "source": [
    "get_second_layer_output = K.function([model.layers[0].input], [model.layers[3].output])\n",
    "second_layer = get_second_layer_output([X_train[0:show_size]])[0]\n",
    "\n",
    "plt.figure(figsize=(20,20))\n",
    "print ('second layer shape: ', second_layer.shape)\n",
    "\n",
    "for img_index, filters in enumerate(second_layer, start=1):\n",
    "    for filter_index, mat in enumerate(filters):\n",
    "        pos = (filter_index)*10+img_index\n",
    "        draw(mat, nb_filters, show_size, pos)\n",
    "plt.tight_layout()        \n",
    "plt.show()"
   ]
  },
  {
   "cell_type": "markdown",
   "id": "ae290ff5",
   "metadata": {},
   "source": [
    "**Third layer with 5 filters**"
   ]
  },
  {
   "cell_type": "code",
   "execution_count": 63,
   "id": "8400776c",
   "metadata": {},
   "outputs": [
    {
     "name": "stdout",
     "output_type": "stream",
     "text": [
      "thrid layer shape:  (10, 1, 1, 5)\n"
     ]
    },
    {
     "data": {
      "image/png": "[encoded data removed]",
      "text/plain": [
       "<Figure size 2000x2000 with 10 Axes>"
      ]
     },
     "metadata": {},
     "output_type": "display_data"
    }
   ],
   "source": [
    "get_3rd_layer_output = K.function([model.layers[0].input], [model.layers[4].output])\n",
    "third_layers = get_3rd_layer_output([X_train[0:show_size]])[0]\n",
    "\n",
    "plt.figure(figsize=(20,20))\n",
    "print ('thrid layer shape: ', third_layers.shape)\n",
    "\n",
    "for img_index, filters in enumerate(third_layers, start=1):\n",
    "    for filter_index, mat in enumerate(filters):\n",
    "        pos = (filter_index)*10+img_index\n",
    "        draw(mat, nb_filters, show_size, pos)\n",
    "plt.tight_layout()\n",
    "plt.show()"
   ]
  },
  {
   "cell_type": "code",
   "execution_count": null,
   "id": "50256ad1",
   "metadata": {},
   "outputs": [],
   "source": []
  }
 ],
 "metadata": {
  "kernelspec": {
   "display_name": "Python 3 (ipykernel)",
   "language": "python",
   "name": "python3"
  },
  "language_info": {
   "codemirror_mode": {
    "name": "ipython",
    "version": 3
   },
   "file_extension": ".py",
   "mimetype": "text/x-python",
   "name": "python",
   "nbconvert_exporter": "python",
   "pygments_lexer": "ipython3",
   "version": "3.10.12"
  }
 },
 "nbformat": 4,
 "nbformat_minor": 5
}
