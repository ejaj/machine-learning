{
 "cells": [
  {
   "cell_type": "code",
   "execution_count": 2,
   "id": "428b728a",
   "metadata": {},
   "outputs": [],
   "source": [
    "import numpy as np\n",
    "np.random.seed(2017)  # for reproducibility\n",
    "\n",
    "from keras.datasets import mnist\n",
    "from keras.models import Sequential\n",
    "from keras.layers import Dense, Dropout, Activation, Flatten\n",
    "from keras.layers import Convolution2D, MaxPooling2D\n",
    "from keras.utils import to_categorical\n",
    "from keras import backend as K"
   ]
  },
  {
   "cell_type": "code",
   "execution_count": 3,
   "id": "34b7dec7",
   "metadata": {},
   "outputs": [],
   "source": [
    "batch_size = 128\n",
    "nb_classes = 5\n",
    "nb_epoch = 5\n",
    "\n",
    "# input image dimensions\n",
    "img_rows, img_cols = 28, 28\n",
    "\n",
    "# number of convolutional filters to use\n",
    "nb_filters = 32\n",
    "\n",
    "# size of pooling area for max pooling\n",
    "pool_size = 2\n",
    "\n",
    "# convolution kernel size\n",
    "kernel_size = 3\n",
    "\n",
    "input_shape = (img_rows, img_cols, 1)"
   ]
  },
  {
   "cell_type": "code",
   "execution_count": 4,
   "id": "1ef3feb7",
   "metadata": {},
   "outputs": [],
   "source": [
    "# the data, shuffled and split between train and test sets\n",
    "(X_train, y_train), (X_test, y_test) = mnist.load_data()\n",
    "\n",
    "# create two datasets one with digits below 5 and one with 5 and above\n",
    "X_train_lt5 = X_train[y_train < 5]\n",
    "y_train_lt5 = y_train[y_train < 5]\n",
    "X_test_lt5 = X_test[y_test < 5]\n",
    "y_test_lt5 = y_test[y_test < 5]\n",
    "\n",
    "X_train_gte5 = X_train[y_train >= 5]\n",
    "y_train_gte5 = y_train[y_train >= 5] - 5  # make classes start at 0 for\n",
    "X_test_gte5 = X_test[y_test >= 5]         # np_utils.to_categorical\n",
    "y_test_gte5 = y_test[y_test >= 5] - 5"
   ]
  },
  {
   "cell_type": "code",
   "execution_count": 8,
   "id": "960bdd89",
   "metadata": {},
   "outputs": [],
   "source": [
    "# Train model for digits 0 to 4\n",
    "def train_model(model, train, test, nb_classes):\n",
    "    X_train = train[0].reshape((train[0].shape[0],) + input_shape)\n",
    "    X_test = test[0].reshape((test[0].shape[0],) + input_shape)\n",
    "    X_train = X_train.astype('float32')\n",
    "    X_test = X_test.astype('float32')\n",
    "    X_train /= 255\n",
    "    X_test /= 255\n",
    "    print('X_train shape:', X_train.shape)\n",
    "    print(X_train.shape[0], 'train samples')\n",
    "    print(X_test.shape[0], 'test samples')\n",
    "\n",
    "    # convert class vectors to binary class matrices\n",
    "    Y_train = to_categorical(train[1], nb_classes)\n",
    "    Y_test = to_categorical(test[1], nb_classes)\n",
    "\n",
    "    model.compile(loss='categorical_crossentropy',\n",
    "                  optimizer='adadelta',\n",
    "                  metrics=['accuracy'])\n",
    "\n",
    "    model.fit(X_train, Y_train,\n",
    "              batch_size=batch_size, epochs=nb_epoch,\n",
    "              verbose=1,\n",
    "              validation_data=(X_test, Y_test))\n",
    "    score = model.evaluate(X_test, Y_test, verbose=0)\n",
    "    print('Test score:', score[0])\n",
    "    print('Test accuracy:', score[1])"
   ]
  },
  {
   "cell_type": "code",
   "execution_count": 9,
   "id": "050796a4",
   "metadata": {},
   "outputs": [
    {
     "name": "stdout",
     "output_type": "stream",
     "text": [
      "X_train shape: (30596, 28, 28, 1)\n",
      "30596 train samples\n",
      "5139 test samples\n",
      "Epoch 1/5\n",
      "240/240 [==============================] - 1s 4ms/step - loss: 1.6078 - accuracy: 0.2120 - val_loss: 1.6043 - val_accuracy: 0.2024\n",
      "Epoch 2/5\n",
      "240/240 [==============================] - 1s 3ms/step - loss: 1.6069 - accuracy: 0.2126 - val_loss: 1.6033 - val_accuracy: 0.2032\n",
      "Epoch 3/5\n",
      "240/240 [==============================] - 1s 3ms/step - loss: 1.6057 - accuracy: 0.2196 - val_loss: 1.6024 - val_accuracy: 0.2039\n",
      "Epoch 4/5\n",
      "240/240 [==============================] - 1s 3ms/step - loss: 1.6046 - accuracy: 0.2228 - val_loss: 1.6014 - val_accuracy: 0.2047\n",
      "Epoch 5/5\n",
      "240/240 [==============================] - 1s 3ms/step - loss: 1.6039 - accuracy: 0.2243 - val_loss: 1.6004 - val_accuracy: 0.2068\n",
      "Test score: 1.6004316806793213\n",
      "Test accuracy: 0.2068495750427246\n"
     ]
    }
   ],
   "source": [
    "# define two groups of layers: feature (convolutions) and classification (dense)\n",
    "feature_layers = [\n",
    "    Convolution2D(nb_filters, kernel_size, kernel_size,\n",
    "                  padding='valid',\n",
    "                  input_shape=input_shape),\n",
    "    Activation('relu'),\n",
    "    Convolution2D(nb_filters, kernel_size, kernel_size),\n",
    "    Activation('relu'),\n",
    "    MaxPooling2D(pool_size=(pool_size, pool_size)),\n",
    "    Dropout(0.25),\n",
    "    Flatten(),\n",
    "]\n",
    "classification_layers = [\n",
    "    Dense(128),\n",
    "    Activation('relu'),\n",
    "    Dropout(0.5),\n",
    "    Dense(nb_classes),\n",
    "    Activation('softmax')\n",
    "]\n",
    "\n",
    "# create complete model\n",
    "model = Sequential(feature_layers + classification_layers)\n",
    "\n",
    "# train model for 5-digit classification [0..4]\n",
    "train_model(model, (X_train_lt5, y_train_lt5), (X_test_lt5, y_test_lt5), nb_classes)"
   ]
  },
  {
   "cell_type": "markdown",
   "id": "368c06bc",
   "metadata": {},
   "source": [
    "***Transfer existing trained model on 0 to 4 to build model for digits 5 to 9***"
   ]
  },
  {
   "cell_type": "code",
   "execution_count": 10,
   "id": "1881ad70",
   "metadata": {},
   "outputs": [
    {
     "name": "stdout",
     "output_type": "stream",
     "text": [
      "X_train shape: (29404, 28, 28, 1)\n",
      "29404 train samples\n",
      "4861 test samples\n",
      "Epoch 1/5\n",
      "230/230 [==============================] - 1s 2ms/step - loss: 1.6080 - accuracy: 0.2248 - val_loss: 1.6065 - val_accuracy: 0.2119\n",
      "Epoch 2/5\n",
      "230/230 [==============================] - 0s 1ms/step - loss: 1.6077 - accuracy: 0.2244 - val_loss: 1.6063 - val_accuracy: 0.2119\n",
      "Epoch 3/5\n",
      "230/230 [==============================] - 0s 1ms/step - loss: 1.6076 - accuracy: 0.2215 - val_loss: 1.6062 - val_accuracy: 0.2125\n",
      "Epoch 4/5\n",
      "230/230 [==============================] - 0s 1ms/step - loss: 1.6077 - accuracy: 0.2234 - val_loss: 1.6060 - val_accuracy: 0.2125\n",
      "Epoch 5/5\n",
      "230/230 [==============================] - 0s 1ms/step - loss: 1.6073 - accuracy: 0.2258 - val_loss: 1.6058 - val_accuracy: 0.2125\n",
      "Test score: 1.6058093309402466\n",
      "Test accuracy: 0.2125077098608017\n"
     ]
    }
   ],
   "source": [
    "# freeze feature layers and rebuild model\n",
    "for layer in feature_layers:\n",
    "    layer.trainable = False\n",
    "\n",
    "# transfer: train dense layers for new classification task [5..9]\n",
    "train_model(model, (X_train_gte5, y_train_gte5), (X_test_gte5, y_test_gte5), nb_classes)"
   ]
  },
  {
   "cell_type": "code",
   "execution_count": null,
   "id": "c00c2c2e",
   "metadata": {},
   "outputs": [],
   "source": []
  }
 ],
 "metadata": {
  "kernelspec": {
   "display_name": "Python 3 (ipykernel)",
   "language": "python",
   "name": "python3"
  },
  "language_info": {
   "codemirror_mode": {
    "name": "ipython",
    "version": 3
   },
   "file_extension": ".py",
   "mimetype": "text/x-python",
   "name": "python",
   "nbconvert_exporter": "python",
   "pygments_lexer": "ipython3",
   "version": "3.10.12"
  }
 },
 "nbformat": 4,
 "nbformat_minor": 5
}
