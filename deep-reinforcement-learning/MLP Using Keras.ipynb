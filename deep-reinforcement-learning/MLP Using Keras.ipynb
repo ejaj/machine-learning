{
 "cells": [
  {
   "cell_type": "code",
   "execution_count": 1,
   "id": "48f31f3e",
   "metadata": {},
   "outputs": [
    {
     "name": "stderr",
     "output_type": "stream",
     "text": [
      "2023-12-15 09:30:32.270423: I tensorflow/tsl/cuda/cudart_stub.cc:28] Could not find cuda drivers on your machine, GPU will not be used.\n",
      "2023-12-15 09:30:32.401259: I tensorflow/tsl/cuda/cudart_stub.cc:28] Could not find cuda drivers on your machine, GPU will not be used.\n",
      "2023-12-15 09:30:32.402652: I tensorflow/core/platform/cpu_feature_guard.cc:182] This TensorFlow binary is optimized to use available CPU instructions in performance-critical operations.\n",
      "To enable the following instructions: AVX2 FMA, in other operations, rebuild TensorFlow with the appropriate compiler flags.\n",
      "2023-12-15 09:30:33.144126: W tensorflow/compiler/tf2tensorrt/utils/py_utils.cc:38] TF-TRT Warning: Could not find TensorRT\n"
     ]
    }
   ],
   "source": [
    "from matplotlib import pyplot as plt\n",
    "import numpy as np\n",
    "np.random.seed(2017)\n",
    "from keras.models import Sequential\n",
    "from keras.datasets import mnist\n",
    "from keras.layers import Dense, Activation, Dropout, Input\n",
    "from keras.models import Model\n",
    "from keras.utils import to_categorical"
   ]
  },
  {
   "cell_type": "code",
   "execution_count": 2,
   "id": "86118247",
   "metadata": {},
   "outputs": [],
   "source": [
    "from keras import backend as K\n",
    "from keras.callbacks import EarlyStopping\n",
    "from keras.utils import plot_model"
   ]
  },
  {
   "cell_type": "code",
   "execution_count": 3,
   "id": "74f91a94",
   "metadata": {},
   "outputs": [
    {
     "data": {
      "text/plain": [
       "(60000, 28, 28)"
      ]
     },
     "execution_count": 3,
     "metadata": {},
     "output_type": "execute_result"
    }
   ],
   "source": [
    "# load data\n",
    "(X_train, y_train), (X_test, y_test) = mnist.load_data()\n",
    "X_train.shape"
   ]
  },
  {
   "cell_type": "code",
   "execution_count": 4,
   "id": "7850cc98",
   "metadata": {},
   "outputs": [
    {
     "data": {
      "text/plain": [
       "array([[[0, 0, 0, ..., 0, 0, 0],\n",
       "        [0, 0, 0, ..., 0, 0, 0],\n",
       "        [0, 0, 0, ..., 0, 0, 0],\n",
       "        ...,\n",
       "        [0, 0, 0, ..., 0, 0, 0],\n",
       "        [0, 0, 0, ..., 0, 0, 0],\n",
       "        [0, 0, 0, ..., 0, 0, 0]],\n",
       "\n",
       "       [[0, 0, 0, ..., 0, 0, 0],\n",
       "        [0, 0, 0, ..., 0, 0, 0],\n",
       "        [0, 0, 0, ..., 0, 0, 0],\n",
       "        ...,\n",
       "        [0, 0, 0, ..., 0, 0, 0],\n",
       "        [0, 0, 0, ..., 0, 0, 0],\n",
       "        [0, 0, 0, ..., 0, 0, 0]],\n",
       "\n",
       "       [[0, 0, 0, ..., 0, 0, 0],\n",
       "        [0, 0, 0, ..., 0, 0, 0],\n",
       "        [0, 0, 0, ..., 0, 0, 0],\n",
       "        ...,\n",
       "        [0, 0, 0, ..., 0, 0, 0],\n",
       "        [0, 0, 0, ..., 0, 0, 0],\n",
       "        [0, 0, 0, ..., 0, 0, 0]],\n",
       "\n",
       "       ...,\n",
       "\n",
       "       [[0, 0, 0, ..., 0, 0, 0],\n",
       "        [0, 0, 0, ..., 0, 0, 0],\n",
       "        [0, 0, 0, ..., 0, 0, 0],\n",
       "        ...,\n",
       "        [0, 0, 0, ..., 0, 0, 0],\n",
       "        [0, 0, 0, ..., 0, 0, 0],\n",
       "        [0, 0, 0, ..., 0, 0, 0]],\n",
       "\n",
       "       [[0, 0, 0, ..., 0, 0, 0],\n",
       "        [0, 0, 0, ..., 0, 0, 0],\n",
       "        [0, 0, 0, ..., 0, 0, 0],\n",
       "        ...,\n",
       "        [0, 0, 0, ..., 0, 0, 0],\n",
       "        [0, 0, 0, ..., 0, 0, 0],\n",
       "        [0, 0, 0, ..., 0, 0, 0]],\n",
       "\n",
       "       [[0, 0, 0, ..., 0, 0, 0],\n",
       "        [0, 0, 0, ..., 0, 0, 0],\n",
       "        [0, 0, 0, ..., 0, 0, 0],\n",
       "        ...,\n",
       "        [0, 0, 0, ..., 0, 0, 0],\n",
       "        [0, 0, 0, ..., 0, 0, 0],\n",
       "        [0, 0, 0, ..., 0, 0, 0]]], dtype=uint8)"
      ]
     },
     "execution_count": 4,
     "metadata": {},
     "output_type": "execute_result"
    }
   ],
   "source": [
    "X_train"
   ]
  },
  {
   "cell_type": "code",
   "execution_count": 5,
   "id": "952f618f",
   "metadata": {},
   "outputs": [],
   "source": [
    "nb_classes = 10 # class size\n",
    "input_unit_size = 28*28 # flatten 28*28 images to a 784 vector for each image"
   ]
  },
  {
   "cell_type": "code",
   "execution_count": 6,
   "id": "03bcdfd8",
   "metadata": {},
   "outputs": [],
   "source": [
    "X_train = X_train.reshape(X_train.shape[0], input_unit_size)\n",
    "X_test  = X_test.reshape(X_test.shape[0], input_unit_size)\n",
    "X_train = X_train.astype('float32')\n",
    "X_test  = X_test.astype('float32')"
   ]
  },
  {
   "cell_type": "code",
   "execution_count": 7,
   "id": "0c5a2b3d",
   "metadata": {},
   "outputs": [
    {
     "data": {
      "text/plain": [
       "(60000, 784)"
      ]
     },
     "execution_count": 7,
     "metadata": {},
     "output_type": "execute_result"
    }
   ],
   "source": [
    "X_train.shape"
   ]
  },
  {
   "cell_type": "code",
   "execution_count": 8,
   "id": "d6b7c597",
   "metadata": {},
   "outputs": [],
   "source": [
    "X_train /= 255\n",
    "X_test /= 255"
   ]
  },
  {
   "cell_type": "code",
   "execution_count": 9,
   "id": "78a4841b",
   "metadata": {},
   "outputs": [],
   "source": [
    "y_train = to_categorical(y_train, nb_classes)\n",
    "y_test = to_categorical(y_test, nb_classes)"
   ]
  },
  {
   "cell_type": "code",
   "execution_count": 10,
   "id": "f7ca3544",
   "metadata": {},
   "outputs": [
    {
     "name": "stdout",
     "output_type": "stream",
     "text": [
      "X_train shape: (60000, 784)\n",
      "60000 train samples\n",
      "10000 test samples\n"
     ]
    }
   ],
   "source": [
    "print('X_train shape:', X_train.shape)\n",
    "print(X_train.shape[0], 'train samples')\n",
    "print(X_test.shape[0], 'test samples')"
   ]
  },
  {
   "cell_type": "code",
   "execution_count": 11,
   "id": "50bd3a59",
   "metadata": {},
   "outputs": [
    {
     "name": "stderr",
     "output_type": "stream",
     "text": [
      "2023-12-15 09:30:54.831782: I tensorflow/compiler/xla/stream_executor/cuda/cuda_gpu_executor.cc:995] successful NUMA node read from SysFS had negative value (-1), but there must be at least one NUMA node, so returning NUMA node zero. See more at https://github.com/torvalds/linux/blob/v6.0/Documentation/ABI/testing/sysfs-bus-pci#L344-L355\n",
      "2023-12-15 09:30:54.929462: W tensorflow/core/common_runtime/gpu/gpu_device.cc:1960] Cannot dlopen some GPU libraries. Please make sure the missing libraries mentioned above are installed properly if you would like to use GPU. Follow the guide at https://www.tensorflow.org/install/gpu for how to download and setup the required libraries for your platform.\n",
      "Skipping registering GPU devices...\n"
     ]
    }
   ],
   "source": [
    "# create model\n",
    "model = Sequential()\n",
    "model = Sequential()\n",
    "model.add(Dense(input_unit_size, input_dim=input_unit_size, kernel_initializer='normal', activation='relu'))\n",
    "model.add(Dense(nb_classes, kernel_initializer='normal', activation='softmax'))\n",
    "\n",
    "# Compile model\n",
    "model.compile(loss='categorical_crossentropy', optimizer='adam', metrics=['accuracy'])"
   ]
  },
  {
   "cell_type": "code",
   "execution_count": 12,
   "id": "dd80262a",
   "metadata": {},
   "outputs": [
    {
     "data": {
      "image/svg+xml": [
       "<svg xmlns=\"http://www.w3.org/2000/svg\" xmlns:xlink=\"http://www.w3.org/1999/xlink\" width=\"387pt\" height=\"295pt\" viewBox=\"0.00 0.00 290.00 221.00\">\n",
       "<g id=\"graph0\" class=\"graph\" transform=\"scale(0.75 0.75) rotate(0) translate(4 217)\">\n",
       "<title>G</title>\n",
       "<polygon fill=\"white\" stroke=\"transparent\" points=\"-4,4 -4,-217 286,-217 286,4 -4,4\"/>\n",
       "<!-- 140457260037840 -->\n",
       "<g id=\"node1\" class=\"node\">\n",
       "<title>140457260037840</title>\n",
       "<polygon fill=\"none\" stroke=\"black\" points=\"0,-166.5 0,-212.5 282,-212.5 282,-166.5 0,-166.5\"/>\n",
       "<text text-anchor=\"middle\" x=\"51.5\" y=\"-197.3\" font-family=\"Times,serif\" font-size=\"14.00\">dense_input</text>\n",
       "<polyline fill=\"none\" stroke=\"black\" points=\"0,-189.5 103,-189.5 \"/>\n",
       "<text text-anchor=\"middle\" x=\"51.5\" y=\"-174.3\" font-family=\"Times,serif\" font-size=\"14.00\">InputLayer</text>\n",
       "<polyline fill=\"none\" stroke=\"black\" points=\"103,-166.5 103,-212.5 \"/>\n",
       "<text text-anchor=\"middle\" x=\"137\" y=\"-197.3\" font-family=\"Times,serif\" font-size=\"14.00\">input:</text>\n",
       "<polyline fill=\"none\" stroke=\"black\" points=\"103,-189.5 171,-189.5 \"/>\n",
       "<text text-anchor=\"middle\" x=\"137\" y=\"-174.3\" font-family=\"Times,serif\" font-size=\"14.00\">output:</text>\n",
       "<polyline fill=\"none\" stroke=\"black\" points=\"171,-166.5 171,-212.5 \"/>\n",
       "<text text-anchor=\"middle\" x=\"226.5\" y=\"-197.3\" font-family=\"Times,serif\" font-size=\"14.00\">[(None, 784)]</text>\n",
       "<polyline fill=\"none\" stroke=\"black\" points=\"171,-189.5 282,-189.5 \"/>\n",
       "<text text-anchor=\"middle\" x=\"226.5\" y=\"-174.3\" font-family=\"Times,serif\" font-size=\"14.00\">[(None, 784)]</text>\n",
       "</g>\n",
       "<!-- 140457260038944 -->\n",
       "<g id=\"node2\" class=\"node\">\n",
       "<title>140457260038944</title>\n",
       "<polygon fill=\"none\" stroke=\"black\" points=\"26,-83.5 26,-129.5 256,-129.5 256,-83.5 26,-83.5\"/>\n",
       "<text text-anchor=\"middle\" x=\"56.5\" y=\"-114.3\" font-family=\"Times,serif\" font-size=\"14.00\">dense</text>\n",
       "<polyline fill=\"none\" stroke=\"black\" points=\"26,-106.5 87,-106.5 \"/>\n",
       "<text text-anchor=\"middle\" x=\"56.5\" y=\"-91.3\" font-family=\"Times,serif\" font-size=\"14.00\">Dense</text>\n",
       "<polyline fill=\"none\" stroke=\"black\" points=\"87,-83.5 87,-129.5 \"/>\n",
       "<text text-anchor=\"middle\" x=\"121\" y=\"-114.3\" font-family=\"Times,serif\" font-size=\"14.00\">input:</text>\n",
       "<polyline fill=\"none\" stroke=\"black\" points=\"87,-106.5 155,-106.5 \"/>\n",
       "<text text-anchor=\"middle\" x=\"121\" y=\"-91.3\" font-family=\"Times,serif\" font-size=\"14.00\">output:</text>\n",
       "<polyline fill=\"none\" stroke=\"black\" points=\"155,-83.5 155,-129.5 \"/>\n",
       "<text text-anchor=\"middle\" x=\"205.5\" y=\"-114.3\" font-family=\"Times,serif\" font-size=\"14.00\">(None, 784)</text>\n",
       "<polyline fill=\"none\" stroke=\"black\" points=\"155,-106.5 256,-106.5 \"/>\n",
       "<text text-anchor=\"middle\" x=\"205.5\" y=\"-91.3\" font-family=\"Times,serif\" font-size=\"14.00\">(None, 784)</text>\n",
       "</g>\n",
       "<!-- 140457260037840&#45;&gt;140457260038944 -->\n",
       "<g id=\"edge1\" class=\"edge\">\n",
       "<title>140457260037840-&gt;140457260038944</title>\n",
       "<path fill=\"none\" stroke=\"black\" d=\"M141,-166.37C141,-158.15 141,-148.66 141,-139.73\"/>\n",
       "<polygon fill=\"black\" stroke=\"black\" points=\"144.5,-139.61 141,-129.61 137.5,-139.61 144.5,-139.61\"/>\n",
       "</g>\n",
       "<!-- 140457255356112 -->\n",
       "<g id=\"node3\" class=\"node\">\n",
       "<title>140457255356112</title>\n",
       "<polygon fill=\"none\" stroke=\"black\" points=\"19.5,-0.5 19.5,-46.5 262.5,-46.5 262.5,-0.5 19.5,-0.5\"/>\n",
       "<text text-anchor=\"middle\" x=\"56.5\" y=\"-31.3\" font-family=\"Times,serif\" font-size=\"14.00\">dense_1</text>\n",
       "<polyline fill=\"none\" stroke=\"black\" points=\"19.5,-23.5 93.5,-23.5 \"/>\n",
       "<text text-anchor=\"middle\" x=\"56.5\" y=\"-8.3\" font-family=\"Times,serif\" font-size=\"14.00\">Dense</text>\n",
       "<polyline fill=\"none\" stroke=\"black\" points=\"93.5,-0.5 93.5,-46.5 \"/>\n",
       "<text text-anchor=\"middle\" x=\"127.5\" y=\"-31.3\" font-family=\"Times,serif\" font-size=\"14.00\">input:</text>\n",
       "<polyline fill=\"none\" stroke=\"black\" points=\"93.5,-23.5 161.5,-23.5 \"/>\n",
       "<text text-anchor=\"middle\" x=\"127.5\" y=\"-8.3\" font-family=\"Times,serif\" font-size=\"14.00\">output:</text>\n",
       "<polyline fill=\"none\" stroke=\"black\" points=\"161.5,-0.5 161.5,-46.5 \"/>\n",
       "<text text-anchor=\"middle\" x=\"212\" y=\"-31.3\" font-family=\"Times,serif\" font-size=\"14.00\">(None, 784)</text>\n",
       "<polyline fill=\"none\" stroke=\"black\" points=\"161.5,-23.5 262.5,-23.5 \"/>\n",
       "<text text-anchor=\"middle\" x=\"212\" y=\"-8.3\" font-family=\"Times,serif\" font-size=\"14.00\">(None, 10)</text>\n",
       "</g>\n",
       "<!-- 140457260038944&#45;&gt;140457255356112 -->\n",
       "<g id=\"edge2\" class=\"edge\">\n",
       "<title>140457260038944-&gt;140457255356112</title>\n",
       "<path fill=\"none\" stroke=\"black\" d=\"M141,-83.37C141,-75.15 141,-65.66 141,-56.73\"/>\n",
       "<polygon fill=\"black\" stroke=\"black\" points=\"144.5,-56.61 141,-46.61 137.5,-56.61 144.5,-56.61\"/>\n",
       "</g>\n",
       "</g>\n",
       "</svg>"
      ],
      "text/plain": [
       "<IPython.core.display.SVG object>"
      ]
     },
     "execution_count": 12,
     "metadata": {},
     "output_type": "execute_result"
    }
   ],
   "source": [
    "from IPython.display import SVG\n",
    "from tensorflow.keras.utils import model_to_dot\n",
    "SVG(model_to_dot(model, show_shapes=True).create(prog='dot', format='svg'))"
   ]
  },
  {
   "cell_type": "code",
   "execution_count": 13,
   "id": "ca57d87d",
   "metadata": {},
   "outputs": [
    {
     "name": "stdout",
     "output_type": "stream",
     "text": [
      "Epoch 1/5\n",
      "120/120 - 1s - loss: 0.3846 - accuracy: 0.8916 - val_loss: 0.1872 - val_accuracy: 0.9473 - 1s/epoch - 8ms/step\n",
      "Epoch 2/5\n",
      "120/120 - 1s - loss: 0.1565 - accuracy: 0.9560 - val_loss: 0.1273 - val_accuracy: 0.9620 - 607ms/epoch - 5ms/step\n",
      "Epoch 3/5\n",
      "120/120 - 1s - loss: 0.1056 - accuracy: 0.9709 - val_loss: 0.0988 - val_accuracy: 0.9709 - 613ms/epoch - 5ms/step\n",
      "Epoch 4/5\n",
      "120/120 - 1s - loss: 0.0785 - accuracy: 0.9785 - val_loss: 0.0869 - val_accuracy: 0.9738 - 605ms/epoch - 5ms/step\n",
      "Epoch 5/5\n",
      "120/120 - 1s - loss: 0.0604 - accuracy: 0.9831 - val_loss: 0.0751 - val_accuracy: 0.9780 - 611ms/epoch - 5ms/step\n",
      "Error: 2.20%\n"
     ]
    }
   ],
   "source": [
    "# model training\n",
    "model.fit(X_train, y_train, validation_data=(X_test, y_test), epochs=5, batch_size=500, verbose=2)\n",
    "# Final evaluation of the model\n",
    "scores = model.evaluate(X_test, y_test, verbose=0)\n",
    "print(\"Error: %.2f%%\" % (100-scores[1]*100))"
   ]
  },
  {
   "cell_type": "markdown",
   "id": "d2074d09",
   "metadata": {},
   "source": [
    "# TensorFlow's low-level API"
   ]
  },
  {
   "cell_type": "code",
   "execution_count": 14,
   "id": "9d29c83c",
   "metadata": {},
   "outputs": [],
   "source": [
    "import numpy as np\n",
    "import tensorflow as tf\n",
    "from tensorflow.keras.datasets import mnist\n",
    "# Set random seed for reproducibility\n",
    "np.random.seed(2017)\n",
    "tf.random.set_seed(2017)\n",
    "tf.compat.v1.logging.set_verbosity(tf.compat.v1.logging.ERROR)\n",
    "tf = tf.compat.v1\n",
    "tf.disable_v2_behavior()"
   ]
  },
  {
   "cell_type": "code",
   "execution_count": 15,
   "id": "4428c5ce",
   "metadata": {},
   "outputs": [],
   "source": [
    "# Load data\n",
    "(X_train, y_train), (X_test, y_test) = mnist.load_data()\n",
    "\n",
    "# Parameters\n",
    "nb_classes = 10\n",
    "input_unit_size = 28 * 28\n",
    "learning_rate = 0.001\n",
    "batch_size = 500\n",
    "training_epochs = 5"
   ]
  },
  {
   "cell_type": "code",
   "execution_count": 16,
   "id": "06efa3c4",
   "metadata": {},
   "outputs": [],
   "source": [
    "# Data Preprocessing\n",
    "X_train = X_train.reshape(-1, input_unit_size).astype('float32') / 255\n",
    "X_test = X_test.reshape(-1, input_unit_size).astype('float32') / 255\n",
    "y_train = tf.keras.utils.to_categorical(y_train, nb_classes)\n",
    "y_test = tf.keras.utils.to_categorical(y_test, nb_classes)"
   ]
  },
  {
   "cell_type": "code",
   "execution_count": 17,
   "id": "a9589342",
   "metadata": {},
   "outputs": [],
   "source": [
    "# TensorFlow Graph Input\n",
    "x = tf.placeholder(tf.float32, [None, input_unit_size])\n",
    "y = tf.placeholder(tf.float32, [None, nb_classes])"
   ]
  },
  {
   "cell_type": "code",
   "execution_count": 18,
   "id": "154fa4ac",
   "metadata": {},
   "outputs": [],
   "source": [
    "# Model weights and biases\n",
    "W1 = tf.Variable(tf.random.normal([input_unit_size, input_unit_size]))\n",
    "b1 = tf.Variable(tf.random.normal([input_unit_size]))\n",
    "W2 = tf.Variable(tf.random.normal([input_unit_size, nb_classes]))\n",
    "b2 = tf.Variable(tf.random.normal([nb_classes]))"
   ]
  },
  {
   "cell_type": "code",
   "execution_count": 19,
   "id": "077880ed",
   "metadata": {},
   "outputs": [],
   "source": [
    "# Forward pass\n",
    "def model(x):\n",
    "    hidden_layer = tf.add(tf.matmul(x, W1), b1)\n",
    "    hidden_layer = tf.nn.relu(hidden_layer)\n",
    "    output_layer = tf.add(tf.matmul(hidden_layer, W2), b2)\n",
    "    return output_layer"
   ]
  },
  {
   "cell_type": "code",
   "execution_count": 20,
   "id": "ca2192b7",
   "metadata": {},
   "outputs": [],
   "source": [
    "def loss_fn(output_layer, labels):\n",
    "    return tf.reduce_mean(tf.nn.softmax_cross_entropy_with_logits(logits=output_layer, labels=labels))"
   ]
  },
  {
   "cell_type": "code",
   "execution_count": 21,
   "id": "035c933c",
   "metadata": {},
   "outputs": [],
   "source": [
    "# Optimizer\n",
    "optimizer = tf.compat.v1.train.AdamOptimizer(learning_rate=learning_rate)"
   ]
  },
  {
   "cell_type": "code",
   "execution_count": 22,
   "id": "105cca64",
   "metadata": {},
   "outputs": [],
   "source": [
    "# Training operation\n",
    "train_op = optimizer.minimize(loss_fn(model(x), y))"
   ]
  },
  {
   "cell_type": "code",
   "execution_count": 23,
   "id": "c1f5b22e",
   "metadata": {},
   "outputs": [],
   "source": [
    "# Initialize the variables\n",
    "init = tf.compat.v1.global_variables_initializer()"
   ]
  },
  {
   "cell_type": "code",
   "execution_count": 24,
   "id": "7e162fba",
   "metadata": {},
   "outputs": [
    {
     "name": "stderr",
     "output_type": "stream",
     "text": [
      "2023-12-15 09:30:59.405922: I tensorflow/compiler/mlir/mlir_graph_optimization_pass.cc:375] MLIR V1 optimization pass is not enabled\n"
     ]
    },
    {
     "name": "stdout",
     "output_type": "stream",
     "text": [
      "Epoch: 0001 cost=67.580797474\n",
      "Epoch: 0002 cost=15.501625081\n",
      "Epoch: 0003 cost=10.380255838\n",
      "Epoch: 0004 cost=7.897742842\n",
      "Epoch: 0005 cost=6.324349078\n",
      "Optimization Finished!\n",
      "Accuracy: 0.8988\n"
     ]
    }
   ],
   "source": [
    "# Start session\n",
    "with tf.compat.v1.Session() as sess:\n",
    "    sess.run(init)\n",
    "    for epoch in range(training_epochs):\n",
    "        avg_cost = 0.\n",
    "        total_batch = int(X_train.shape[0] / batch_size)\n",
    "        \n",
    "        # Loop over all batches\n",
    "        for i in range(total_batch):\n",
    "            batch_x, batch_y = X_train[i*batch_size:(i+1)*batch_size], y_train[i*batch_size:(i+1)*batch_size]\n",
    "            _, c = sess.run([\n",
    "                train_op,\n",
    "                loss_fn(model(x),y)\n",
    "            ], feed_dict={x:batch_x, y:batch_y})\n",
    "            avg_cost += c/total_batch\n",
    "        print(\"Epoch:\", '%04d' % (epoch+1), \"cost={:.9f}\".format(avg_cost))\n",
    "    print(\"Optimization Finished!\")\n",
    "    \n",
    "    # Test model\n",
    "    correct_prediction = tf.equal(tf.argmax(model(x), 1), tf.argmax(y, 1))\n",
    "    # Calculate accuracy\n",
    "    accuracy = tf.reduce_mean(tf.cast(correct_prediction, tf.float32))\n",
    "    print(\"Accuracy:\", accuracy.eval({x: X_test, y: y_test}))"
   ]
  },
  {
   "cell_type": "code",
   "execution_count": 25,
   "id": "6d7c685e",
   "metadata": {},
   "outputs": [],
   "source": [
    "import pandas as pd"
   ]
  },
  {
   "cell_type": "code",
   "execution_count": 26,
   "id": "d9893cb0",
   "metadata": {},
   "outputs": [
    {
     "data": {
      "text/html": [
       "<div>\n",
       "<style scoped>\n",
       "    .dataframe tbody tr th:only-of-type {\n",
       "        vertical-align: middle;\n",
       "    }\n",
       "\n",
       "    .dataframe tbody tr th {\n",
       "        vertical-align: top;\n",
       "    }\n",
       "\n",
       "    .dataframe thead th {\n",
       "        text-align: right;\n",
       "    }\n",
       "</style>\n",
       "<table border=\"1\" class=\"dataframe\">\n",
       "  <thead>\n",
       "    <tr style=\"text-align: right;\">\n",
       "      <th></th>\n",
       "      <th>preg_count</th>\n",
       "      <th>glucose_concentration</th>\n",
       "      <th>blood_pressure</th>\n",
       "      <th>skin_thickness</th>\n",
       "      <th>serum_insulin</th>\n",
       "      <th>bmi</th>\n",
       "      <th>pedigree_function</th>\n",
       "      <th>age</th>\n",
       "      <th>class</th>\n",
       "    </tr>\n",
       "  </thead>\n",
       "  <tbody>\n",
       "    <tr>\n",
       "      <th>0</th>\n",
       "      <td>6</td>\n",
       "      <td>148</td>\n",
       "      <td>72</td>\n",
       "      <td>35</td>\n",
       "      <td>0</td>\n",
       "      <td>33.6</td>\n",
       "      <td>0.627</td>\n",
       "      <td>50</td>\n",
       "      <td>1</td>\n",
       "    </tr>\n",
       "    <tr>\n",
       "      <th>1</th>\n",
       "      <td>1</td>\n",
       "      <td>85</td>\n",
       "      <td>66</td>\n",
       "      <td>29</td>\n",
       "      <td>0</td>\n",
       "      <td>26.6</td>\n",
       "      <td>0.351</td>\n",
       "      <td>31</td>\n",
       "      <td>0</td>\n",
       "    </tr>\n",
       "    <tr>\n",
       "      <th>2</th>\n",
       "      <td>8</td>\n",
       "      <td>183</td>\n",
       "      <td>64</td>\n",
       "      <td>0</td>\n",
       "      <td>0</td>\n",
       "      <td>23.3</td>\n",
       "      <td>0.672</td>\n",
       "      <td>32</td>\n",
       "      <td>1</td>\n",
       "    </tr>\n",
       "    <tr>\n",
       "      <th>3</th>\n",
       "      <td>1</td>\n",
       "      <td>89</td>\n",
       "      <td>66</td>\n",
       "      <td>23</td>\n",
       "      <td>94</td>\n",
       "      <td>28.1</td>\n",
       "      <td>0.167</td>\n",
       "      <td>21</td>\n",
       "      <td>0</td>\n",
       "    </tr>\n",
       "    <tr>\n",
       "      <th>4</th>\n",
       "      <td>0</td>\n",
       "      <td>137</td>\n",
       "      <td>40</td>\n",
       "      <td>35</td>\n",
       "      <td>168</td>\n",
       "      <td>43.1</td>\n",
       "      <td>2.288</td>\n",
       "      <td>33</td>\n",
       "      <td>1</td>\n",
       "    </tr>\n",
       "  </tbody>\n",
       "</table>\n",
       "</div>"
      ],
      "text/plain": [
       "   preg_count  glucose_concentration  blood_pressure  skin_thickness  \\\n",
       "0           6                    148              72              35   \n",
       "1           1                     85              66              29   \n",
       "2           8                    183              64               0   \n",
       "3           1                     89              66              23   \n",
       "4           0                    137              40              35   \n",
       "\n",
       "   serum_insulin   bmi  pedigree_function  age  class  \n",
       "0              0  33.6              0.627   50      1  \n",
       "1              0  26.6              0.351   31      0  \n",
       "2              0  23.3              0.672   32      1  \n",
       "3             94  28.1              0.167   21      0  \n",
       "4            168  43.1              2.288   33      1  "
      ]
     },
     "execution_count": 26,
     "metadata": {},
     "output_type": "execute_result"
    }
   ],
   "source": [
    "# load pima indians dataset\n",
    "dataset = pd.read_csv('Data/Diabetes.csv')\n",
    "dataset.head(5)"
   ]
  },
  {
   "cell_type": "code",
   "execution_count": 27,
   "id": "1accd78d",
   "metadata": {},
   "outputs": [
    {
     "data": {
      "text/plain": [
       "array([[  6.   , 148.   ,  72.   , ...,  33.6  ,   0.627,  50.   ],\n",
       "       [  1.   ,  85.   ,  66.   , ...,  26.6  ,   0.351,  31.   ],\n",
       "       [  8.   , 183.   ,  64.   , ...,  23.3  ,   0.672,  32.   ],\n",
       "       ...,\n",
       "       [  5.   , 121.   ,  72.   , ...,  26.2  ,   0.245,  30.   ],\n",
       "       [  1.   , 126.   ,  60.   , ...,  30.1  ,   0.349,  47.   ],\n",
       "       [  1.   ,  93.   ,  70.   , ...,  30.4  ,   0.315,  23.   ]])"
      ]
     },
     "execution_count": 27,
     "metadata": {},
     "output_type": "execute_result"
    }
   ],
   "source": [
    "X = dataset.iloc[:, 0:8].values\n",
    "X"
   ]
  },
  {
   "cell_type": "code",
   "execution_count": 29,
   "id": "7c9657bc",
   "metadata": {},
   "outputs": [
    {
     "data": {
      "text/plain": [
       "array([1, 0, 1, 0, 1, 0, 1, 0, 1, 1, 0, 1, 0, 1, 1, 1, 1, 1, 0, 1, 0, 0,\n",
       "       1, 1, 1, 1, 1, 0, 0, 0, 0, 1, 0, 0, 0, 0, 0, 1, 1, 1, 0, 0, 0, 1,\n",
       "       0, 1, 0, 0, 1, 0, 0, 0, 0, 1, 0, 0, 1, 0, 0, 0, 0, 1, 0, 0, 1, 0,\n",
       "       1, 0, 0, 0, 1, 0, 1, 0, 0, 0, 0, 0, 1, 0, 0, 0, 0, 0, 1, 0, 0, 0,\n",
       "       1, 0, 0, 0, 0, 1, 0, 0, 0, 0, 0, 1, 1, 0, 0, 0, 0, 0, 0, 0, 0, 1,\n",
       "       1, 1, 0, 0, 1, 1, 1, 0, 0, 0, 1, 0, 0, 0, 1, 1, 0, 0, 1, 1, 1, 1,\n",
       "       1, 0, 0, 0, 0, 0, 0, 0, 0, 0, 0, 1, 0, 0, 0, 0, 0, 0, 0, 0, 1, 0,\n",
       "       1, 1, 0, 0, 0, 1, 0, 0, 0, 0, 1, 1, 0, 0, 0, 0, 1, 1, 0, 0, 0, 1,\n",
       "       0, 1, 0, 1, 0, 0, 0, 0, 0, 1, 1, 1, 1, 1, 0, 0, 1, 1, 0, 1, 0, 1,\n",
       "       1, 1, 0, 0, 0, 0, 0, 0, 1, 1, 0, 1, 0, 0, 0, 1, 1, 1, 1, 0, 1, 1,\n",
       "       1, 1, 0, 0, 0, 0, 0, 1, 0, 0, 1, 1, 0, 0, 0, 1, 1, 1, 1, 0, 0, 0,\n",
       "       1, 1, 0, 1, 0, 0, 0, 0, 0, 0, 0, 0, 1, 1, 0, 0, 0, 1, 0, 1, 0, 0,\n",
       "       1, 0, 1, 0, 0, 1, 1, 0, 0, 0, 0, 0, 1, 0, 0, 0, 1, 0, 0, 1, 1, 0,\n",
       "       0, 1, 0, 0, 0, 1, 1, 1, 0, 0, 1, 0, 1, 0, 1, 1, 0, 1, 0, 0, 1, 0,\n",
       "       1, 1, 0, 0, 1, 0, 1, 0, 0, 1, 0, 1, 0, 1, 1, 1, 0, 0, 1, 0, 1, 0,\n",
       "       0, 0, 1, 0, 0, 0, 0, 1, 1, 1, 0, 0, 0, 0, 0, 0, 0, 0, 0, 1, 0, 0,\n",
       "       0, 0, 0, 1, 1, 1, 0, 1, 1, 0, 0, 1, 0, 0, 1, 0, 0, 1, 1, 0, 0, 0,\n",
       "       0, 1, 0, 0, 1, 0, 0, 0, 0, 0, 0, 0, 1, 1, 1, 0, 0, 1, 0, 0, 1, 0,\n",
       "       0, 1, 0, 1, 1, 0, 1, 0, 1, 0, 1, 0, 1, 1, 0, 0, 0, 0, 1, 1, 0, 1,\n",
       "       0, 1, 0, 0, 0, 0, 1, 1, 0, 1, 0, 1, 0, 0, 0, 0, 0, 1, 0, 0, 0, 0,\n",
       "       1, 0, 0, 1, 1, 1, 0, 0, 1, 0, 0, 1, 0, 0, 0, 1, 0, 0, 1, 0, 0, 0,\n",
       "       0, 0, 0, 0, 0, 0, 1, 0, 0, 0, 0, 0, 0, 0, 1, 0, 0, 0, 1, 0, 0, 0,\n",
       "       1, 1, 0, 0, 0, 0, 0, 0, 0, 1, 0, 0, 0, 0, 1, 0, 0, 0, 1, 0, 0, 0,\n",
       "       1, 0, 0, 0, 1, 0, 0, 0, 0, 1, 1, 0, 0, 0, 0, 0, 0, 1, 0, 0, 0, 0,\n",
       "       0, 0, 0, 0, 0, 0, 0, 1, 0, 0, 0, 1, 1, 1, 1, 0, 0, 1, 1, 0, 0, 0,\n",
       "       0, 0, 0, 0, 0, 0, 0, 0, 0, 0, 1, 1, 0, 0, 0, 0, 0, 0, 0, 1, 0, 0,\n",
       "       0, 0, 0, 0, 0, 1, 0, 1, 1, 0, 0, 0, 1, 0, 1, 0, 1, 0, 1, 0, 1, 0,\n",
       "       0, 1, 0, 0, 1, 0, 0, 0, 0, 1, 1, 0, 1, 0, 0, 0, 0, 1, 1, 0, 1, 0,\n",
       "       0, 0, 1, 1, 0, 0, 0, 0, 0, 0, 0, 0, 0, 0, 1, 0, 0, 0, 0, 1, 0, 0,\n",
       "       1, 0, 0, 0, 1, 0, 0, 0, 1, 1, 1, 0, 0, 0, 0, 0, 0, 1, 0, 0, 0, 1,\n",
       "       0, 1, 1, 1, 1, 0, 1, 1, 0, 0, 0, 0, 0, 0, 0, 1, 1, 0, 1, 0, 0, 1,\n",
       "       0, 1, 0, 0, 0, 0, 0, 1, 0, 1, 0, 1, 0, 1, 1, 0, 0, 0, 0, 1, 1, 0,\n",
       "       0, 0, 1, 0, 1, 1, 0, 0, 1, 0, 0, 1, 1, 0, 0, 1, 0, 0, 1, 0, 0, 0,\n",
       "       0, 0, 0, 0, 1, 1, 1, 0, 0, 0, 0, 0, 0, 1, 1, 0, 0, 1, 0, 0, 1, 0,\n",
       "       1, 1, 1, 0, 0, 1, 1, 1, 0, 1, 0, 1, 0, 1, 0, 0, 0, 0, 1, 0])"
      ]
     },
     "execution_count": 29,
     "metadata": {},
     "output_type": "execute_result"
    }
   ],
   "source": [
    "y = dataset['class'].values\n",
    "y"
   ]
  },
  {
   "cell_type": "code",
   "execution_count": 30,
   "id": "ef911dbe",
   "metadata": {},
   "outputs": [],
   "source": [
    "# create model\n",
    "model = Sequential()\n",
    "model.add(Dense(12, input_dim=8, kernel_initializer='uniform', activation='relu'))\n",
    "model.add(Dense(1, kernel_initializer='uniform', activation='sigmoid'))"
   ]
  },
  {
   "cell_type": "code",
   "execution_count": 31,
   "id": "84324dba",
   "metadata": {},
   "outputs": [],
   "source": [
    "# Compile model\n",
    "model.compile(loss='binary_crossentropy', optimizer='adam', metrics=['accuracy'])"
   ]
  },
  {
   "cell_type": "code",
   "execution_count": 32,
   "id": "5f4fc47c",
   "metadata": {},
   "outputs": [
    {
     "data": {
      "image/svg+xml": [
       "<svg xmlns=\"http://www.w3.org/2000/svg\" xmlns:xlink=\"http://www.w3.org/1999/xlink\" width=\"384pt\" height=\"295pt\" viewBox=\"0.00 0.00 288.00 221.00\">\n",
       "<g id=\"graph0\" class=\"graph\" transform=\"scale(0.75 0.75) rotate(0) translate(4 217)\">\n",
       "<title>G</title>\n",
       "<polygon fill=\"white\" stroke=\"transparent\" points=\"-4,4 -4,-217 284,-217 284,4 -4,4\"/>\n",
       "<!-- 140452389527920 -->\n",
       "<g id=\"node1\" class=\"node\">\n",
       "<title>140452389527920</title>\n",
       "<polygon fill=\"none\" stroke=\"black\" points=\"0,-166.5 0,-212.5 280,-212.5 280,-166.5 0,-166.5\"/>\n",
       "<text text-anchor=\"middle\" x=\"59.5\" y=\"-197.3\" font-family=\"Times,serif\" font-size=\"14.00\">dense_2_input</text>\n",
       "<polyline fill=\"none\" stroke=\"black\" points=\"0,-189.5 119,-189.5 \"/>\n",
       "<text text-anchor=\"middle\" x=\"59.5\" y=\"-174.3\" font-family=\"Times,serif\" font-size=\"14.00\">InputLayer</text>\n",
       "<polyline fill=\"none\" stroke=\"black\" points=\"119,-166.5 119,-212.5 \"/>\n",
       "<text text-anchor=\"middle\" x=\"153\" y=\"-197.3\" font-family=\"Times,serif\" font-size=\"14.00\">input:</text>\n",
       "<polyline fill=\"none\" stroke=\"black\" points=\"119,-189.5 187,-189.5 \"/>\n",
       "<text text-anchor=\"middle\" x=\"153\" y=\"-174.3\" font-family=\"Times,serif\" font-size=\"14.00\">output:</text>\n",
       "<polyline fill=\"none\" stroke=\"black\" points=\"187,-166.5 187,-212.5 \"/>\n",
       "<text text-anchor=\"middle\" x=\"233.5\" y=\"-197.3\" font-family=\"Times,serif\" font-size=\"14.00\">[(None, 8)]</text>\n",
       "<polyline fill=\"none\" stroke=\"black\" points=\"187,-189.5 280,-189.5 \"/>\n",
       "<text text-anchor=\"middle\" x=\"233.5\" y=\"-174.3\" font-family=\"Times,serif\" font-size=\"14.00\">[(None, 8)]</text>\n",
       "</g>\n",
       "<!-- 140452389529072 -->\n",
       "<g id=\"node2\" class=\"node\">\n",
       "<title>140452389529072</title>\n",
       "<polygon fill=\"none\" stroke=\"black\" points=\"23,-83.5 23,-129.5 257,-129.5 257,-83.5 23,-83.5\"/>\n",
       "<text text-anchor=\"middle\" x=\"60\" y=\"-114.3\" font-family=\"Times,serif\" font-size=\"14.00\">dense_2</text>\n",
       "<polyline fill=\"none\" stroke=\"black\" points=\"23,-106.5 97,-106.5 \"/>\n",
       "<text text-anchor=\"middle\" x=\"60\" y=\"-91.3\" font-family=\"Times,serif\" font-size=\"14.00\">Dense</text>\n",
       "<polyline fill=\"none\" stroke=\"black\" points=\"97,-83.5 97,-129.5 \"/>\n",
       "<text text-anchor=\"middle\" x=\"131\" y=\"-114.3\" font-family=\"Times,serif\" font-size=\"14.00\">input:</text>\n",
       "<polyline fill=\"none\" stroke=\"black\" points=\"97,-106.5 165,-106.5 \"/>\n",
       "<text text-anchor=\"middle\" x=\"131\" y=\"-91.3\" font-family=\"Times,serif\" font-size=\"14.00\">output:</text>\n",
       "<polyline fill=\"none\" stroke=\"black\" points=\"165,-83.5 165,-129.5 \"/>\n",
       "<text text-anchor=\"middle\" x=\"211\" y=\"-114.3\" font-family=\"Times,serif\" font-size=\"14.00\">(None, 8)</text>\n",
       "<polyline fill=\"none\" stroke=\"black\" points=\"165,-106.5 257,-106.5 \"/>\n",
       "<text text-anchor=\"middle\" x=\"211\" y=\"-91.3\" font-family=\"Times,serif\" font-size=\"14.00\">(None, 12)</text>\n",
       "</g>\n",
       "<!-- 140452389527920&#45;&gt;140452389529072 -->\n",
       "<g id=\"edge1\" class=\"edge\">\n",
       "<title>140452389527920-&gt;140452389529072</title>\n",
       "<path fill=\"none\" stroke=\"black\" d=\"M140,-166.37C140,-158.15 140,-148.66 140,-139.73\"/>\n",
       "<polygon fill=\"black\" stroke=\"black\" points=\"143.5,-139.61 140,-129.61 136.5,-139.61 143.5,-139.61\"/>\n",
       "</g>\n",
       "<!-- 140452389521344 -->\n",
       "<g id=\"node3\" class=\"node\">\n",
       "<title>140452389521344</title>\n",
       "<polygon fill=\"none\" stroke=\"black\" points=\"23,-0.5 23,-46.5 257,-46.5 257,-0.5 23,-0.5\"/>\n",
       "<text text-anchor=\"middle\" x=\"60\" y=\"-31.3\" font-family=\"Times,serif\" font-size=\"14.00\">dense_3</text>\n",
       "<polyline fill=\"none\" stroke=\"black\" points=\"23,-23.5 97,-23.5 \"/>\n",
       "<text text-anchor=\"middle\" x=\"60\" y=\"-8.3\" font-family=\"Times,serif\" font-size=\"14.00\">Dense</text>\n",
       "<polyline fill=\"none\" stroke=\"black\" points=\"97,-0.5 97,-46.5 \"/>\n",
       "<text text-anchor=\"middle\" x=\"131\" y=\"-31.3\" font-family=\"Times,serif\" font-size=\"14.00\">input:</text>\n",
       "<polyline fill=\"none\" stroke=\"black\" points=\"97,-23.5 165,-23.5 \"/>\n",
       "<text text-anchor=\"middle\" x=\"131\" y=\"-8.3\" font-family=\"Times,serif\" font-size=\"14.00\">output:</text>\n",
       "<polyline fill=\"none\" stroke=\"black\" points=\"165,-0.5 165,-46.5 \"/>\n",
       "<text text-anchor=\"middle\" x=\"211\" y=\"-31.3\" font-family=\"Times,serif\" font-size=\"14.00\">(None, 12)</text>\n",
       "<polyline fill=\"none\" stroke=\"black\" points=\"165,-23.5 257,-23.5 \"/>\n",
       "<text text-anchor=\"middle\" x=\"211\" y=\"-8.3\" font-family=\"Times,serif\" font-size=\"14.00\">(None, 1)</text>\n",
       "</g>\n",
       "<!-- 140452389529072&#45;&gt;140452389521344 -->\n",
       "<g id=\"edge2\" class=\"edge\">\n",
       "<title>140452389529072-&gt;140452389521344</title>\n",
       "<path fill=\"none\" stroke=\"black\" d=\"M140,-83.37C140,-75.15 140,-65.66 140,-56.73\"/>\n",
       "<polygon fill=\"black\" stroke=\"black\" points=\"143.5,-56.61 140,-46.61 136.5,-56.61 143.5,-56.61\"/>\n",
       "</g>\n",
       "</g>\n",
       "</svg>"
      ],
      "text/plain": [
       "<IPython.core.display.SVG object>"
      ]
     },
     "execution_count": 32,
     "metadata": {},
     "output_type": "execute_result"
    }
   ],
   "source": [
    "SVG(model_to_dot(model, show_shapes=True).create(prog='dot', format='svg'))"
   ]
  },
  {
   "cell_type": "code",
   "execution_count": 33,
   "id": "eff342d1",
   "metadata": {},
   "outputs": [
    {
     "name": "stdout",
     "output_type": "stream",
     "text": [
      "Train on 768 samples\n"
     ]
    },
    {
     "name": "stderr",
     "output_type": "stream",
     "text": [
      "2023-12-15 09:37:21.126419: W tensorflow/c/c_api.cc:304] Operation '{name:'training/Adam/dense_3/kernel/m/Assign' id:23862 op device:{requested: '', assigned: ''} def:{{{node training/Adam/dense_3/kernel/m/Assign}} = AssignVariableOp[_has_manual_control_dependencies=true, dtype=DT_FLOAT, validate_shape=false](training/Adam/dense_3/kernel/m, training/Adam/dense_3/kernel/m/Initializer/zeros)}}' was changed by setting attribute after it was run by a session. This mutation will have no effect, and will trigger an error in the future. Either don't modify nodes after running them or create a new session.\n"
     ]
    },
    {
     "name": "stdout",
     "output_type": "stream",
     "text": [
      "Epoch 1/5\n",
      "768/768 [==============================] - 0s 291us/sample - loss: 0.6700 - acc: 0.6471\n",
      "Epoch 2/5\n",
      "768/768 [==============================] - 0s 43us/sample - loss: 0.6530 - acc: 0.6536\n",
      "Epoch 3/5\n",
      "768/768 [==============================] - 0s 44us/sample - loss: 0.6393 - acc: 0.6562\n",
      "Epoch 4/5\n",
      "768/768 [==============================] - 0s 46us/sample - loss: 0.6295 - acc: 0.6589\n",
      "Epoch 5/5\n",
      "768/768 [==============================] - 0s 45us/sample - loss: 0.6206 - acc: 0.6719\n"
     ]
    },
    {
     "data": {
      "text/plain": [
       "<keras.src.callbacks.History at 0x7fbd9e6280d0>"
      ]
     },
     "execution_count": 33,
     "metadata": {},
     "output_type": "execute_result"
    }
   ],
   "source": [
    "# Fit the model\n",
    "model.fit(X, y, epochs=5, batch_size=10)"
   ]
  },
  {
   "cell_type": "code",
   "execution_count": 34,
   "id": "40d0ce45",
   "metadata": {},
   "outputs": [
    {
     "name": "stderr",
     "output_type": "stream",
     "text": [
      "/home/kazi/Works/Projects/machine-learning/venv/lib/python3.10/site-packages/keras/src/engine/training_v1.py:2335: UserWarning: `Model.state_updates` will be removed in a future version. This property should not be used in TensorFlow 2.0, as `updates` are applied automatically.\n",
      "  updates = self.state_updates\n",
      "2023-12-15 09:37:29.792827: W tensorflow/c/c_api.cc:304] Operation '{name:'loss/mul' id:23718 op device:{requested: '', assigned: ''} def:{{{node loss/mul}} = Mul[T=DT_FLOAT, _has_manual_control_dependencies=true](loss/mul/x, loss/dense_3_loss/value)}}' was changed by setting attribute after it was run by a session. This mutation will have no effect, and will trigger an error in the future. Either don't modify nodes after running them or create a new session.\n"
     ]
    },
    {
     "name": "stdout",
     "output_type": "stream",
     "text": [
      "acc: 67.45%\n"
     ]
    }
   ],
   "source": [
    "# evaluate the model\n",
    "scores = model.evaluate(X, y)\n",
    "print(\"%s: %.2f%%\" % (model.metrics_names[1], scores[1]*100))"
   ]
  },
  {
   "cell_type": "code",
   "execution_count": null,
   "id": "7202dac2",
   "metadata": {},
   "outputs": [],
   "source": []
  }
 ],
 "metadata": {
  "kernelspec": {
   "display_name": "Python 3 (ipykernel)",
   "language": "python",
   "name": "python3"
  },
  "language_info": {
   "codemirror_mode": {
    "name": "ipython",
    "version": 3
   },
   "file_extension": ".py",
   "mimetype": "text/x-python",
   "name": "python",
   "nbconvert_exporter": "python",
   "pygments_lexer": "ipython3",
   "version": "3.10.12"
  }
 },
 "nbformat": 4,
 "nbformat_minor": 5
}
